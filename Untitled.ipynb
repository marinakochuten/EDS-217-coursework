{
 "cells": [
  {
   "cell_type": "code",
   "execution_count": null,
   "id": "032f5bbf-475e-420b-a137-5def8003d92f",
   "metadata": {
    "tags": []
   },
   "outputs": [],
   "source": [
    "import pandas as pd"
   ]
  },
  {
   "cell_type": "code",
   "execution_count": null,
   "id": "b6224f2f-6a12-4d67-8629-c454fb9adf90",
   "metadata": {
    "tags": []
   },
   "outputs": [],
   "source": [
    "url = 'https://ucsb.box.com/s/em95bgyp0kpkjaxfhw0vrdal2n772v2i'\n",
    "apples = pd.read_csv(url)"
   ]
  },
  {
   "cell_type": "code",
   "execution_count": null,
   "id": "5a6345d0-a66b-42c5-9052-9add5266f5d2",
   "metadata": {},
   "outputs": [],
   "source": []
  }
 ],
 "metadata": {
  "kernelspec": {
   "display_name": "Python 3.10.0",
   "language": "python",
   "name": "python3.10.0"
  },
  "language_info": {
   "codemirror_mode": {
    "name": "ipython",
    "version": 3
   },
   "file_extension": ".py",
   "mimetype": "text/x-python",
   "name": "python",
   "nbconvert_exporter": "python",
   "pygments_lexer": "ipython3",
   "version": "3.10.0"
  }
 },
 "nbformat": 4,
 "nbformat_minor": 5
}
