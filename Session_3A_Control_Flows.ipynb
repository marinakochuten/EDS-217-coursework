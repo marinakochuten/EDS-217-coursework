{
 "cells": [
  {
   "cell_type": "markdown",
   "id": "531c9db5-ef3c-464d-bce9-56ab1c721e58",
   "metadata": {},
   "source": [
    "# Day 3: Session 3A - Control Flows\n",
    "\n",
    "[Link to session webpage](https://eds-217-essential-python.github.io/course-materials/live-coding/3a_control_flows.html)\n",
    "\n",
    "Date: 09/05/2024"
   ]
  },
  {
   "cell_type": "markdown",
   "id": "e65cbfcd-db02-4086-97ee-ac846fe72cc2",
   "metadata": {},
   "source": [
    "  ## Introduction to Control Flows\n",
    "  \n",
    "  Main types are conditionals (change based on a value) or loops (repeat based on a value)"
   ]
  },
  {
   "cell_type": "markdown",
   "id": "764cc435-a926-4bff-a8c7-b11775715c62",
   "metadata": {
    "tags": []
   },
   "source": [
    "### Conditionals\n",
    "\n",
    "#### Basic If Statement\n",
    "\n",
    "```python\n",
    "\n",
    "if x > 10:   # colon says \"ok now i'm telling you what to do\". Must start with a `:`\n",
    "    print(x)    # must be indented! \n",
    "\n",
    "print(\"finished\")\n",
    "```"
   ]
  },
  {
   "cell_type": "code",
   "execution_count": null,
   "id": "53679539-d99a-42e3-a068-0f45c302d321",
   "metadata": {
    "tags": []
   },
   "outputs": [],
   "source": [
    "number = 5\n",
    "if number > 0:\n",
    "    print(\"Positive number\")"
   ]
  },
  {
   "cell_type": "code",
   "execution_count": null,
   "id": "3ef56ba2-c716-4608-b869-09ba4007067c",
   "metadata": {
    "tags": []
   },
   "outputs": [],
   "source": [
    "# The if statement uses Boolean `True` or `False` to determine code execution\n",
    "if True:\n",
    "    print(\"Positive number\")\n",
    "    \n",
    "if False: \n",
    "    print(\"Another Positive number\")"
   ]
  },
  {
   "cell_type": "markdown",
   "id": "6fe4c21c-203c-41a3-a7ad-720aec1523cf",
   "metadata": {},
   "source": [
    "#### Adding Else"
   ]
  },
  {
   "cell_type": "code",
   "execution_count": null,
   "id": "feef19dc-dca8-4319-b365-f23b12f9bb8f",
   "metadata": {
    "tags": []
   },
   "outputs": [],
   "source": [
    "number = -5\n",
    "if number > 0:\n",
    "    print(\"Positive number\")\n",
    "else:\n",
    "    print(\"Not a positive number\")"
   ]
  },
  {
   "cell_type": "markdown",
   "id": "6ba0b1a7-7376-452e-ab8e-81ce14b07e5f",
   "metadata": {},
   "source": [
    "#### Using Elif"
   ]
  },
  {
   "cell_type": "code",
   "execution_count": null,
   "id": "be0384bb-d38d-483e-b697-2899d234b2e0",
   "metadata": {
    "tags": []
   },
   "outputs": [],
   "source": [
    "number = 0\n",
    "if number > 0:\n",
    "    print(\"Positive number\")\n",
    "elif number < 0:\n",
    "    print(\"Negative number\")\n",
    "else:\n",
    "    print(\"Number is 0\")"
   ]
  },
  {
   "cell_type": "markdown",
   "id": "1d5c45be-b024-4b43-93fc-fe14b0a7b47f",
   "metadata": {},
   "source": [
    "Use `pass` to avoid code block execution (e.g. as a placeholder)"
   ]
  },
  {
   "cell_type": "code",
   "execution_count": null,
   "id": "6de03f92-bf97-4238-b7da-259149bfeda6",
   "metadata": {
    "tags": []
   },
   "outputs": [],
   "source": [
    "grade = 90\n",
    "if grade >= 90:\n",
    "    print(\"You're doing great\")\n",
    "elif grade < 90 and grade > 60:\n",
    "    pass\n",
    "else:\n",
    "    print(\"Uh-oh...\")"
   ]
  },
  {
   "cell_type": "markdown",
   "id": "4f1a0aa5-8cea-4f99-b5ab-c8bf7226f0d5",
   "metadata": {},
   "source": [
    "### Loops\n",
    "\n",
    "Loops allow similar things to happen repeatedly to groups of things.\n",
    "\n",
    "#### For Loops"
   ]
  },
  {
   "cell_type": "code",
   "execution_count": null,
   "id": "c6d374cd-7909-4152-83ec-e6d6b72ab0e0",
   "metadata": {
    "tags": []
   },
   "outputs": [],
   "source": [
    "fruits = ['apple', 'banana', 'peach']\n",
    "for fruit in fruits:\n",
    "    print(fruit)"
   ]
  },
  {
   "cell_type": "markdown",
   "id": "b4a9c377-c622-499a-ad88-fc507ec5cb2c",
   "metadata": {},
   "source": [
    "#### While Loops\n",
    "\n",
    "loops through a block of code as long as a specified condition is true."
   ]
  },
  {
   "cell_type": "code",
   "execution_count": null,
   "id": "8b87d888-6349-4131-a7a5-e41d8f0de611",
   "metadata": {
    "tags": []
   },
   "outputs": [],
   "source": [
    "count = 5 \n",
    "while count > 0:\n",
    "    print(count)\n",
    "    count -= 1"
   ]
  },
  {
   "cell_type": "markdown",
   "id": "ca4fbb47-5709-44a2-af35-26d258cfcf78",
   "metadata": {},
   "source": [
    "## Applying Control Flows in Data Science"
   ]
  },
  {
   "cell_type": "code",
   "execution_count": null,
   "id": "c5a2e624-dc48-43ea-a8c2-7f10b773f665",
   "metadata": {
    "tags": []
   },
   "outputs": [],
   "source": [
    "import pandas as pd\n",
    "\n",
    "data = pd.DataFrame({        # this function makes a data frame out of whatever you pass to it. in this case we passed it lists [] within a dictionary {}\n",
    "    'Temperature':[18, 21, 24, 19, 17],\n",
    "    'Weather':['rainy', 'sunny', 'sunny', 'cloudy', 'rainy']\n",
    "})\n",
    "\n",
    "sunny_days = data[data['Weather'] == 'sunny']\n",
    "print(sunny_days)"
   ]
  },
  {
   "cell_type": "markdown",
   "id": "bc51daee-6e1d-4681-b1b4-c6cb95f2492f",
   "metadata": {},
   "source": [
    "### Conclusion"
   ]
  },
  {
   "cell_type": "code",
   "execution_count": null,
   "id": "d6bdf4aa-99f0-4833-b0e4-02399f82ca49",
   "metadata": {},
   "outputs": [],
   "source": []
  }
 ],
 "metadata": {
  "kernelspec": {
   "display_name": "Python 3.10.0",
   "language": "python",
   "name": "python3.10.0"
  },
  "language_info": {
   "codemirror_mode": {
    "name": "ipython",
    "version": 3
   },
   "file_extension": ".py",
   "mimetype": "text/x-python",
   "name": "python",
   "nbconvert_exporter": "python",
   "pygments_lexer": "ipython3",
   "version": "3.10.0"
  }
 },
 "nbformat": 4,
 "nbformat_minor": 5
}
