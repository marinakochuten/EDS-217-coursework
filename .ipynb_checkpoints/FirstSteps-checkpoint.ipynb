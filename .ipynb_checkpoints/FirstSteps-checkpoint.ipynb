{
 "cells": [
  {
   "cell_type": "markdown",
   "id": "1c0c54e1-0123-4c72-bdce-745d0cd04357",
   "metadata": {
    "tags": []
   },
   "source": [
    "# My First Notebook\n",
    "[Link to Session 1B](https://eds-217-essential-python.github.io/course-materials/interactive-sessions/1b_Jupyter_Notebooks.html)\n",
    "\n",
    "A little code block:\n",
    "```python\n",
    "# Assignment in python\n",
    "a = 3\n",
    "```\n",
    "\n",
    "```r\n",
    "# Assignment in R\n",
    "a <- 3\n",
    "```"
   ]
  },
  {
   "cell_type": "code",
   "execution_count": null,
   "id": "5411de13-3497-4b9f-a88b-f237b0484a15",
   "metadata": {
    "tags": []
   },
   "outputs": [],
   "source": [
    "3 + 5"
   ]
  },
  {
   "cell_type": "code",
   "execution_count": null,
   "id": "07b6ca29-7a08-48ff-8d9b-c613dabf57f0",
   "metadata": {
    "tags": []
   },
   "outputs": [],
   "source": [
    "2 + 2"
   ]
  },
  {
   "cell_type": "code",
   "execution_count": null,
   "id": "95733722-8bbc-40ea-91f4-4233cd5df74f",
   "metadata": {
    "tags": []
   },
   "outputs": [],
   "source": [
    "# Simple Python code\n",
    "print(\"Hello, Jupyter!\")"
   ]
  },
  {
   "cell_type": "markdown",
   "id": "799658fb-c0f1-4426-89ab-4630eef09e01",
   "metadata": {},
   "source": [
    "# My First Markdown Cell\n",
    "\n",
    "This is a simple example of a Markdown cell in JupyterLab.\n",
    "\n",
    "## Features of Markdown\n",
    "\n",
    "- **Bold Text**: Use `**text**` for **bold**.\n",
    "- **Italic Text**: Use `*text*` for *italic*.\n",
    "- **Lists**: Create bullet points using `-` or `*`.\n",
    "- **Links**: [JupyterLab Documentation](https://jupyterlab.readthedocs.io/)"
   ]
  },
  {
   "cell_type": "code",
   "execution_count": null,
   "id": "111e2d9b-5d0f-42dd-a83f-5daa974a855b",
   "metadata": {
    "tags": []
   },
   "outputs": [],
   "source": [
    "from IPython.display import Image, display\n",
    "\n",
    "# display an image\n",
    "img_path = 'https://jupyterlab.readthedocs.io/en/stable/_images/interface-jupyterlab.png'"
   ]
  },
  {
   "cell_type": "code",
   "execution_count": null,
   "id": "b75af4ca-f16d-49cb-a40b-28cd076d083e",
   "metadata": {
    "tags": []
   },
   "outputs": [],
   "source": [
    "display(Image(url = img_path, width = 300))"
   ]
  },
  {
   "cell_type": "code",
   "execution_count": null,
   "id": "7b9f991f-73bf-4d9b-870f-315db930642f",
   "metadata": {},
   "outputs": [],
   "source": []
  }
 ],
 "metadata": {
  "kernelspec": {
   "display_name": "Python 3.10.0",
   "language": "python",
   "name": "python3.10.0"
  },
  "language_info": {
   "codemirror_mode": {
    "name": "ipython",
    "version": 3
   },
   "file_extension": ".py",
   "mimetype": "text/x-python",
   "name": "python",
   "nbconvert_exporter": "python",
   "pygments_lexer": "ipython3",
   "version": "3.10.0"
  }
 },
 "nbformat": 4,
 "nbformat_minor": 5
}
