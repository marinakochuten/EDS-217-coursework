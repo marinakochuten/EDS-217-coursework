{
 "cells": [
  {
   "cell_type": "markdown",
   "id": "6bc6f661-29e7-453d-993d-caee3cdb776c",
   "metadata": {},
   "source": [
    "# Setup"
   ]
  },
  {
   "cell_type": "code",
   "execution_count": null,
   "id": "27283446-b4f6-40cb-8948-ca63965e481f",
   "metadata": {
    "tags": []
   },
   "outputs": [],
   "source": [
    "# We won't use the random library until the end of this exercise, \n",
    "# but it's always good to put imported libraries at the top of your notebook.\n",
    "import random "
   ]
  },
  {
   "cell_type": "markdown",
   "id": "d41c8fc8-d288-411a-94cc-0db55d8e5a08",
   "metadata": {},
   "source": [
    "# Part 1 - Data Collection\n",
    "### Task 1 - Create a list of classmates"
   ]
  },
  {
   "cell_type": "code",
   "execution_count": null,
   "id": "c779da64-f330-4e94-b3cf-2616afd75b25",
   "metadata": {
    "tags": []
   },
   "outputs": [],
   "source": [
    "# Create a list containing the names of at least 4 of your classmates in this course.\n",
    "classmates = [\"Jo\", \"Matteo\", \"Ian\", \"Josh\"]"
   ]
  },
  {
   "cell_type": "markdown",
   "id": "4796db74-d0c0-4f81-b492-c087a236507f",
   "metadata": {},
   "source": [
    "### Task 2: Create a Dictionary of Classmate Information\n",
    "keys are your classmates’ names, and the values are another dictionary containing information about them. For each classmate, include the following information:\n",
    "\n",
    "`Favorite color (favorite_color)`\n",
    "`Number of pets (number_of_pets)`\n",
    "`Preferred study snack (preferred_study_snack)`\n"
   ]
  },
  {
   "cell_type": "code",
   "execution_count": null,
   "id": "44e28aa7-71b3-453a-9866-a74ac4da8ad8",
   "metadata": {
    "tags": []
   },
   "outputs": [],
   "source": [
    "class_info = {\n",
    "    \"Jo\": {\"favorite_color\":\"green\", \"number_of_pets\":1, \"preferred_study_snack\":\"tomatoes\"},\n",
    "    \"Matteo\": {\"favorite_color\":\"yellow\", \"number_of_pets\":0, \"preferred_study_snack\":\"cliff bar\"},\n",
    "    \"Ian\": {\"favorite_color\":\"orange\", \"number_of_pets\":1, \"preferred_study_snack\":\"donut\"},\n",
    "    \"Josh\": {\"favorite_color\":\"white\", \"number_of_pets\":1, \"preferred_study_snack\":\"cookies\"}\n",
    "}"
   ]
  },
  {
   "cell_type": "markdown",
   "id": "4ed4ddc6-f191-42ae-9496-4c80d93ca4ed",
   "metadata": {},
   "source": [
    "# Part 2 - Data Structure Manipulation\n",
    "\n",
    "### Task 3: List Operations\n",
    "Using the list of classmate names you created in Task 1, perform the following operations:\n",
    "\n",
    "- Add a new classmate to the end of the list\n",
    "- Remove the second classmate from the list\n",
    "- Sort the list alphabetically\n",
    "- Find and print the index of a specific classmate"
   ]
  },
  {
   "cell_type": "code",
   "execution_count": null,
   "id": "09c871a5-bebc-4145-ad76-a325a8b68d58",
   "metadata": {
    "tags": []
   },
   "outputs": [],
   "source": [
    "classmates.append(\"Bailey\")\n",
    "print(classmates)"
   ]
  },
  {
   "cell_type": "code",
   "execution_count": null,
   "id": "6d06b024-7919-47e4-9f2d-23d37f693732",
   "metadata": {
    "tags": []
   },
   "outputs": [],
   "source": [
    "del classmates[1]\n",
    "print(classmates)"
   ]
  },
  {
   "cell_type": "code",
   "execution_count": null,
   "id": "39093c1c-39c2-4420-9af8-3776c840d630",
   "metadata": {
    "tags": []
   },
   "outputs": [],
   "source": [
    "classmates.sort()\n",
    "print(classmates)"
   ]
  },
  {
   "cell_type": "code",
   "execution_count": null,
   "id": "0d9da2dd-a99f-4d99-bcec-cdd4f2b72291",
   "metadata": {},
   "outputs": [],
   "source": [
    "# Find and print the index of a specific classmate"
   ]
  },
  {
   "cell_type": "markdown",
   "id": "904f307a-0419-4642-88a0-950dd207623c",
   "metadata": {},
   "source": [
    "\n",
    "### Task 4: Dictionary Operations\n",
    "Using the dictionary of classmate information from Task 2, perform the following operations:\n",
    "\n",
    "- Add a new key-value pair for each classmate: “favorite_study_spot”\n",
    "- Update the “number of pets” for one classmate\n",
    "- Create a list of all the favorite colors your classmates mentioned"
   ]
  },
  {
   "cell_type": "code",
   "execution_count": null,
   "id": "81733d86-8de6-46de-8cc5-06a5e09bcac7",
   "metadata": {
    "tags": []
   },
   "outputs": [],
   "source": [
    "class_info[\"Jo\"][\"fav_study_spot\"] = \"library\"\n",
    "class_info[\"Matteo\"][\"fav_study_spot\"] = \"park\"\n",
    "class_info[\"Ian\"][\"fav_study_spot\"] = \"beach\"\n",
    "class_info[\"Josh\"][\"fav_study_spot\"] = \"home\"\n",
    "\n",
    "print(class_info)"
   ]
  },
  {
   "cell_type": "code",
   "execution_count": null,
   "id": "862ae481-b46e-473d-b9d4-3d20f1055e54",
   "metadata": {
    "tags": []
   },
   "outputs": [],
   "source": [
    "class_info[\"Jo\"][\"number_of_pets\"] = 2\n",
    "print(class_info[\"Jo\"])"
   ]
  },
  {
   "cell_type": "code",
   "execution_count": null,
   "id": "35e8fa32-bcb5-4ace-98e2-fde2a63f9e11",
   "metadata": {
    "tags": []
   },
   "outputs": [],
   "source": [
    "fav_color_list = []\n",
    "\n",
    "for classmate in class_info.values():\n",
    "    fav_color_list.append(classmate[\"favorite_color\"])\n",
    "    \n",
    "print(fav_color_list)"
   ]
  },
  {
   "cell_type": "markdown",
   "id": "0a21302e-8e25-4464-94a3-fe00c228af09",
   "metadata": {},
   "source": [
    "# Part 3: Fun with Random Selections\n",
    "### Task 5: Random Snack Sharing\n",
    "Create a function that randomly selects a classmate to share their snack with another random classmate. Print out the results as “Name will share [snack] with Name”."
   ]
  },
  {
   "cell_type": "code",
   "execution_count": null,
   "id": "5659c756-f346-4247-8ed6-2f9bae71146f",
   "metadata": {
    "tags": []
   },
   "outputs": [],
   "source": [
    "random_sharer, random_snack = random.choice(list(class_info.items()))\n",
    "print(f\"Randomly selected sharer: {random_sharer}\")\n",
    "print(f\"Snack: {random_snack}\")"
   ]
  },
  {
   "cell_type": "code",
   "execution_count": null,
   "id": "50e5b3c8-0516-4601-a9b3-0e7fe079d21d",
   "metadata": {
    "tags": []
   },
   "outputs": [],
   "source": [
    "#| echo: true\n",
    "def assign_random_snacks(class_info):\n",
    "    sharer, sharer_dict = random.choice(list(class_info.items()))\n",
    "    sharer_snack = sharer_dict[\"preferred_study_snack\"]\n",
    "    shared = random.choice(list(class_info.keys()))\n",
    "    print(f\"{sharer} will share {sharer_snack} with {shared}\")\n",
    "    \n",
    "\n",
    "  \n",
    "# Your code here\n",
    "    # print(f\"{sharer} will share {snack} with {receiver}\")\n",
    "\n",
    "# Test your function\n",
    "assign_random_snacks(class_info)"
   ]
  },
  {
   "cell_type": "code",
   "execution_count": null,
   "id": "075198b7-025e-4678-9e12-059778f9aca5",
   "metadata": {},
   "outputs": [],
   "source": []
  }
 ],
 "metadata": {
  "kernelspec": {
   "display_name": "Python 3.10.0",
   "language": "python",
   "name": "python3.10.0"
  },
  "language_info": {
   "codemirror_mode": {
    "name": "ipython",
    "version": 3
   },
   "file_extension": ".py",
   "mimetype": "text/x-python",
   "name": "python",
   "nbconvert_exporter": "python",
   "pygments_lexer": "ipython3",
   "version": "3.10.0"
  }
 },
 "nbformat": 4,
 "nbformat_minor": 5
}
