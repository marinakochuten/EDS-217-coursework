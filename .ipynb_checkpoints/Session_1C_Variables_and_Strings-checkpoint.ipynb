{
 "cells": [
  {
   "cell_type": "markdown",
   "id": "3450584b-3f27-4969-b8f7-6a33ee68c45c",
   "metadata": {},
   "source": [
    "# Day 1: Session C - Variables & Strings\n",
    "\n",
    "[Session Webpage](https://eds-217-essential-python.github.io/course-materials/interactive-sessions/1c_variables_strings.html)\n",
    "\n",
    "Date: 09/03/2024"
   ]
  },
  {
   "cell_type": "markdown",
   "id": "734e7de7-5b27-41e6-9137-d32d519fcd3e",
   "metadata": {
    "tags": []
   },
   "source": [
    "## Variable Types\n",
    "\n",
    "*everything is an object*"
   ]
  },
  {
   "cell_type": "code",
   "execution_count": null,
   "id": "5999e3e5-b2c7-49ac-ba00-13df07c4e313",
   "metadata": {
    "tags": []
   },
   "outputs": [],
   "source": [
    "number = 42\n",
    "text = \"Hello, World!\"\n",
    "pi = 3.14159\n",
    "data = [1, 2, 3, 4, 5]"
   ]
  },
  {
   "cell_type": "markdown",
   "id": "8d57cc93-4359-4dac-b417-3bd22eb56fd8",
   "metadata": {},
   "source": [
    "Most common built-in types:\n",
    "\n",
    "- `int`: Integers\n",
    "- `float`: Floating point numbers (e.g. 2.34)\n",
    "- `str`: Strings (characters, text, etc...)\n",
    "- `list`: A collection of things"
   ]
  },
  {
   "cell_type": "code",
   "execution_count": null,
   "id": "01176468-9831-40b4-ad7b-f256f2f41e92",
   "metadata": {
    "tags": []
   },
   "outputs": [],
   "source": [
    "print(type(number))\n",
    "print(type(text))\n",
    "print(type(pi))\n",
    "print(type(data))"
   ]
  },
  {
   "cell_type": "markdown",
   "id": "a709394d-d916-4f93-92f6-f2364b4de681",
   "metadata": {},
   "source": [
    "## Exploring Methods\n",
    "\n",
    "### Discovering Methods"
   ]
  },
  {
   "cell_type": "code",
   "execution_count": null,
   "id": "14a52460-9bc7-47d6-8ee0-41aa1d23ccfe",
   "metadata": {
    "tags": []
   },
   "outputs": [],
   "source": [
    "list_of_methods = dir(text)\n",
    "print(list_of_methods)"
   ]
  },
  {
   "cell_type": "code",
   "execution_count": null,
   "id": "7e50f6b7-963a-4b9a-9d56-7a6fff80e39f",
   "metadata": {
    "tags": []
   },
   "outputs": [],
   "source": [
    "text = \"not all Upper case    \"\n",
    "\n",
    "# Convert to upper case:\n",
    "print(text.upper())\n",
    "\n",
    "# Convert to lower case:\n",
    "print(text.lower())\n",
    "\n",
    "# Replace a substring:\n",
    "print(text.replace(\"Upper\", \"Lower\"))\n",
    "\n",
    "# Strip out trailing (and leading) whitespace, including tabs and new lines!\n",
    "print(text.strip())\n",
    "\n"
   ]
  },
  {
   "cell_type": "markdown",
   "id": "ffc38e20-8097-4f11-9bfb-e0857d5624b2",
   "metadata": {},
   "source": [
    "### Combining Methods\n",
    "\n",
    "WE can combine methods. Most functions return an instance of an object, so we can use that to run another command. This is called **method chaining**.\n",
    "\n",
    "An example would be string normalization, where we want to:\n",
    "1. remove whitespace, \n",
    "2. make everything lower case, and \n",
    "3. replace whitespace with `_`\n",
    "\n",
    "#### The hard way:"
   ]
  },
  {
   "cell_type": "code",
   "execution_count": null,
   "id": "5f4ee19a-179d-4633-b18f-8ce7e51f2340",
   "metadata": {
    "tags": []
   },
   "outputs": [],
   "source": [
    "column_bad = '   Air Temperature'\n",
    "\n",
    "# Step 1: strip leading/trailing whitespace\n",
    "column_better = column_bad.strip()\n",
    "\n",
    "# Step 2: make everything lowercase:\n",
    "column_even_better = column_better.lower()\n",
    "\n",
    "# Step 3: replace whitespace\n",
    "column_best = column_even_better.replace(' ', '_')\n",
    "\n",
    "print(column_best)"
   ]
  },
  {
   "cell_type": "markdown",
   "id": "3fbca7f6-5836-4df0-ada8-88e6ea59a605",
   "metadata": {},
   "source": [
    "#### The Pythonic way:"
   ]
  },
  {
   "cell_type": "code",
   "execution_count": null,
   "id": "b1ff6234-dad7-4d6e-b350-d35ed5add04f",
   "metadata": {
    "tags": []
   },
   "outputs": [],
   "source": [
    "print(column_bad.strip().lower().replace(' ', '_'))"
   ]
  },
  {
   "cell_type": "markdown",
   "id": "cf5cfb3b-06c4-4a47-8edd-5c389dc4e565",
   "metadata": {},
   "source": [
    "#### A more complicated example.\n",
    "\n",
    "Looping through a list of strings and normalizing each one!\n",
    "\n",
    "0. Make a list of strings\n",
    "1. Make a for loop to loop through the strings\n",
    "2. Normalize each string\n",
    "3. Print out the normalized string"
   ]
  },
  {
   "cell_type": "code",
   "execution_count": null,
   "id": "ee8a8420-d708-4cff-b56a-8d7ead521e65",
   "metadata": {
    "tags": []
   },
   "outputs": [],
   "source": [
    "strings_to_normalize = [\n",
    "    \"data science\",\n",
    "    \"  MACHINE learning \",\n",
    "    \"Artificial Intelligence\\t\",\n",
    "    \" Natural\\nLanguage Processing \"\n",
    "]\n",
    "\n",
    "print(\"Your Normalized Strings:\")\n",
    "print(\"========================\")\n",
    "\n",
    "# Step 1:\n",
    "for string in strings_to_normalize:\n",
    "    # Your normalization code here\n",
    "    normalized = string.strip().lower().replace('\\n', '_').replace(' ', '_')\n",
    "    \n",
    "    print(f\"Original: '{string}'\")\n",
    "    print(f\"Normalized: '{normalized}'\")\n",
    "    print()"
   ]
  },
  {
   "cell_type": "code",
   "execution_count": null,
   "id": "2f5f800b-0a71-416c-8dab-25ca19997377",
   "metadata": {
    "tags": []
   },
   "outputs": [],
   "source": [
    "import this"
   ]
  },
  {
   "cell_type": "code",
   "execution_count": null,
   "id": "3f9b02cf-920b-479a-9952-812cef38a7c5",
   "metadata": {},
   "outputs": [],
   "source": []
  }
 ],
 "metadata": {
  "kernelspec": {
   "display_name": "Python 3.10.0",
   "language": "python",
   "name": "python3.10.0"
  },
  "language_info": {
   "codemirror_mode": {
    "name": "ipython",
    "version": 3
   },
   "file_extension": ".py",
   "mimetype": "text/x-python",
   "name": "python",
   "nbconvert_exporter": "python",
   "pygments_lexer": "ipython3",
   "version": "3.10.0"
  }
 },
 "nbformat": 4,
 "nbformat_minor": 5
}
