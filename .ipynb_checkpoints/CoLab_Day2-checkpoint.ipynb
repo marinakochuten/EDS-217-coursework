{
 "cells": [
  {
   "cell_type": "markdown",
   "id": "63a1f1c2-f9fa-46e8-9a0f-333dec77fc63",
   "metadata": {},
   "source": [
    "## Part 1\n",
    "\n",
    "#### Task 1: List Operations"
   ]
  },
  {
   "cell_type": "code",
   "execution_count": null,
   "id": "5dcbd5b9-15ee-4dbc-985b-7837dc302999",
   "metadata": {
    "tags": []
   },
   "outputs": [],
   "source": [
    "# Create a list calles fruits with 3 fruit names\n",
    "fruits = [\"apple\", \"banana\", \"mango\"]"
   ]
  },
  {
   "cell_type": "code",
   "execution_count": null,
   "id": "87cbbd1c-0c2f-4be0-a9a2-a6e5d331aaec",
   "metadata": {
    "tags": []
   },
   "outputs": [],
   "source": [
    "# Add a new fruit to the end of the list\n",
    "fruits.append(\"kiwi\")\n",
    "print(fruits)"
   ]
  },
  {
   "cell_type": "code",
   "execution_count": null,
   "id": "7c067164-72e6-40e8-97fc-d84a23136da5",
   "metadata": {
    "tags": []
   },
   "outputs": [],
   "source": [
    "# Remove the second fruit from the list\n",
    "fruits.remove(\"banana\")\n",
    "print(fruits)"
   ]
  },
  {
   "cell_type": "markdown",
   "id": "c7ff7bf4-ba30-4bc6-8774-2c1c11b5cf41",
   "metadata": {},
   "source": [
    "#### Task 2: Dictionary Operations"
   ]
  },
  {
   "cell_type": "code",
   "execution_count": null,
   "id": "1857ab32-c298-4c91-940d-d61fb620cee0",
   "metadata": {
    "tags": []
   },
   "outputs": [],
   "source": [
    "# Create a dictionary with 3 items and their quanitities\n",
    "inventory = {\"name\": \"Jo\", \"age\":26, \"color\":\"green\"}\n",
    "print(inventory)"
   ]
  },
  {
   "cell_type": "code",
   "execution_count": null,
   "id": "b490b575-4de2-4cab-aa4f-bb20cbaa38e1",
   "metadata": {
    "tags": []
   },
   "outputs": [],
   "source": [
    "# Add a new item to the inventory\n",
    "inventory[\"food\"] = \"ice cream\"\n",
    "print(inventory)"
   ]
  },
  {
   "cell_type": "code",
   "execution_count": null,
   "id": "45d7f843-4e74-4b3c-be24-996e8d8457f2",
   "metadata": {
    "tags": []
   },
   "outputs": [],
   "source": [
    "# Update the quanitity of an existing item\n",
    "inventory[\"age\"] = 27\n",
    "print(inventory)"
   ]
  },
  {
   "cell_type": "markdown",
   "id": "871987c0-72e2-4a7f-8122-a81a8793b0fc",
   "metadata": {},
   "source": [
    "## Part 2\n",
    "#### Task 3: Creating and Manipulating Sets"
   ]
  },
  {
   "cell_type": "code",
   "execution_count": null,
   "id": "fd79d54f-32ee-4db0-bae8-c50aab5f5398",
   "metadata": {
    "tags": []
   },
   "outputs": [],
   "source": [
    "# Create two sets: evens with even numbers from 2 to 10, and odds with odd numbers from 1 to 9\n",
    "evens = {2,4,6,8,10}\n",
    "odds = {1,3,5,7,9}"
   ]
  },
  {
   "cell_type": "code",
   "execution_count": null,
   "id": "cc123eec-a9ca-41b4-8b82-f942ee49541c",
   "metadata": {
    "tags": []
   },
   "outputs": [],
   "source": [
    "print(evens)\n",
    "print(odds)"
   ]
  },
  {
   "cell_type": "code",
   "execution_count": null,
   "id": "8f3ac96f-8792-4f1f-a26a-dc5bde1a34c2",
   "metadata": {
    "tags": []
   },
   "outputs": [],
   "source": [
    "# Find and print the union of the two sets\n",
    "union = odds.union(evens)\n",
    "print(union)"
   ]
  },
  {
   "cell_type": "code",
   "execution_count": null,
   "id": "26e48482-132e-4d26-bdcc-d26ed19f4862",
   "metadata": {
    "tags": []
   },
   "outputs": [],
   "source": [
    "# Find and print the intersection of the two sets\n",
    "intersection = evens.intersection(odds)\n",
    "print(intersection)"
   ]
  },
  {
   "cell_type": "code",
   "execution_count": null,
   "id": "340961d1-9253-4d66-b070-b7d91f3b09b2",
   "metadata": {
    "tags": []
   },
   "outputs": [],
   "source": [
    "# Add a new element to the evens set\n",
    "evens.add(12)\n",
    "print(evens)"
   ]
  },
  {
   "cell_type": "markdown",
   "id": "d7d0b5c2-2d51-4b93-99b1-fd13fc512a2d",
   "metadata": {},
   "source": [
    "#### Task 4: Combining Set Operations and List Operations"
   ]
  },
  {
   "cell_type": "code",
   "execution_count": null,
   "id": "1634b5be-7d70-425d-88c1-a6a19ec5c01d",
   "metadata": {
    "tags": []
   },
   "outputs": [],
   "source": [
    "# Create a list with some duplicates: numbers = [1, 2, 2, 3, 3, 3, 4, 4, 5]\n",
    "numbers = [1,2,2,3,3,3,4,4,5]\n",
    "print(numbers)"
   ]
  },
  {
   "cell_type": "code",
   "execution_count": null,
   "id": "7ce69405-b317-4fb7-9c4e-2b1f71db303c",
   "metadata": {
    "tags": []
   },
   "outputs": [],
   "source": [
    "# Use a set to remove duplicates\n",
    "set_from_list = set(numbers)\n",
    "print(set_from_list)"
   ]
  },
  {
   "cell_type": "code",
   "execution_count": null,
   "id": "488ce5c6-4870-4487-b0c1-b4db6ddd8f14",
   "metadata": {
    "tags": []
   },
   "outputs": [],
   "source": [
    "# Create a new list from the set\n",
    "list_from_set = list(set_from_list)\n",
    "print(list_from_set)"
   ]
  }
 ],
 "metadata": {
  "kernelspec": {
   "display_name": "Python 3.10.0",
   "language": "python",
   "name": "python3.10.0"
  },
  "language_info": {
   "codemirror_mode": {
    "name": "ipython",
    "version": 3
   },
   "file_extension": ".py",
   "mimetype": "text/x-python",
   "name": "python",
   "nbconvert_exporter": "python",
   "pygments_lexer": "ipython3",
   "version": "3.10.0"
  }
 },
 "nbformat": 4,
 "nbformat_minor": 5
}
