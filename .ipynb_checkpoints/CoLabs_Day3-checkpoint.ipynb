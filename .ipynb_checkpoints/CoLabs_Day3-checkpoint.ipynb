{
 "cells": [
  {
   "cell_type": "markdown",
   "id": "59beb07e-9ec3-418f-81ca-19e3fd07df6f",
   "metadata": {},
   "source": [
    "## Part 1\n",
    "\n",
    "#### task 1"
   ]
  },
  {
   "cell_type": "code",
   "execution_count": null,
   "id": "ec2b262a-6a17-47a9-af92-1ded4716a398",
   "metadata": {
    "tags": []
   },
   "outputs": [],
   "source": [
    "temperature = 20\n",
    "\n",
    "if temperature > 25:\n",
    "    print(\"It's a hot day!\")\n",
    "else:\n",
    "    print(\"Enjoy the pleasant weather\")"
   ]
  },
  {
   "cell_type": "code",
   "execution_count": null,
   "id": "36de4845-daef-4498-a7fd-477526b16bd3",
   "metadata": {
    "tags": []
   },
   "outputs": [],
   "source": [
    "### task 2"
   ]
  },
  {
   "cell_type": "code",
   "execution_count": null,
   "id": "9d607d5e-4439-44b6-a32b-b0aa8d304aaf",
   "metadata": {
    "tags": []
   },
   "outputs": [],
   "source": [
    "score = 85\n",
    "\n",
    "if score >= 90:\n",
    "    print(\"A\")\n",
    "elif score >= 80 and score < 90:\n",
    "    print(\"B\")\n",
    "elif score >= 70 and score < 80:\n",
    "    print(\"c\")\n",
    "elif score >= 60 and score < 70:\n",
    "    print(\"D\")\n",
    "else:\n",
    "    print(\"F\")"
   ]
  },
  {
   "cell_type": "markdown",
   "id": "01709232-9462-4012-a434-c5573536c0c3",
   "metadata": {},
   "source": [
    "### task 3"
   ]
  },
  {
   "cell_type": "code",
   "execution_count": null,
   "id": "a6ec4ec6-cdab-488e-9402-26ad1cebbd41",
   "metadata": {
    "tags": []
   },
   "outputs": [],
   "source": [
    "sheep_list = []\n",
    "for i in range(1, 6):\n",
    "    sheep_list.append(f\"{i} sheep\")\n",
    "print(sheep_list)"
   ]
  },
  {
   "cell_type": "markdown",
   "id": "c9c55b3d-9c56-49b1-9730-d6c9a29a58a7",
   "metadata": {},
   "source": [
    "### task 4"
   ]
  },
  {
   "cell_type": "code",
   "execution_count": null,
   "id": "e9cde10e-6a61-4f90-82d7-f01359b5c888",
   "metadata": {
    "tags": []
   },
   "outputs": [],
   "source": [
    "total = 0\n",
    "for i in range(1, 11, 1):\n",
    "    total = (total + i)\n",
    "print(total)"
   ]
  },
  {
   "cell_type": "markdown",
   "id": "957fd0b6-032d-4f4c-826b-f92eefbbceb3",
   "metadata": {},
   "source": [
    "# Part 3\n",
    "### Task 5"
   ]
  },
  {
   "cell_type": "code",
   "execution_count": null,
   "id": "07744bfd-4e9c-47d1-9d35-1e26156c6b03",
   "metadata": {
    "tags": []
   },
   "outputs": [],
   "source": [
    "countdown = 5\n",
    "\n",
    "while countdown >= 1:\n",
    "    print(countdown)\n",
    "    countdown -= 1\n",
    "print(\"Blast off.\")"
   ]
  },
  {
   "cell_type": "markdown",
   "id": "688f5161-c69b-4c89-a2fd-6dd8af593171",
   "metadata": {},
   "source": [
    "# CoLab 2"
   ]
  },
  {
   "cell_type": "code",
   "execution_count": null,
   "id": "7d0cc47d-8df0-4839-aea8-da385e998af8",
   "metadata": {
    "tags": []
   },
   "outputs": [],
   "source": [
    "import pandas as pd\n",
    "import numpy as np\n",
    "\n",
    "# create a sample series\n",
    "fruits = pd.Series(['apple', 'banana', 'cherry', 'date', 'elderberry'], name = 'Fruits')\n",
    "print(fruits)"
   ]
  },
  {
   "cell_type": "markdown",
   "id": "4d9fc0ec-41a6-4fec-bd8d-2e4418d97180",
   "metadata": {},
   "source": [
    "### Step 1"
   ]
  },
  {
   "cell_type": "code",
   "execution_count": null,
   "id": "fe3ce208-ad1e-4b07-8e3f-bd5dbb22610f",
   "metadata": {
    "tags": []
   },
   "outputs": [],
   "source": [
    "prices = pd.Series([0.5, 0.3, 1.0, 1.5, 2.0], \n",
    "                   index = ['apple', 'banana', 'cherry', 'date', 'elderberry'])\n",
    "print(prices)"
   ]
  },
  {
   "cell_type": "markdown",
   "id": "9e3dadca-35b2-474e-a4ad-e9fa6f8d86d3",
   "metadata": {},
   "source": [
    "### Step 2"
   ]
  },
  {
   "cell_type": "code",
   "execution_count": null,
   "id": "5e2446ab-b8bc-4ce4-a7a9-9d4241972095",
   "metadata": {
    "tags": []
   },
   "outputs": [],
   "source": [
    "print(\"Total price of all fruit is $\", prices.sum())"
   ]
  },
  {
   "cell_type": "code",
   "execution_count": null,
   "id": "48ee347d-c38e-4362-bc4e-2851325c233a",
   "metadata": {
    "tags": []
   },
   "outputs": [],
   "source": [
    "print(\"the priciest fruit is\", prices.index.max(), \"at $\", prices.max())"
   ]
  },
  {
   "cell_type": "code",
   "execution_count": null,
   "id": "99a4ca7b-2cf1-40f7-a4c5-2f37d681ee34",
   "metadata": {
    "tags": []
   },
   "outputs": [],
   "source": [
    "prices_discount = prices.where(prices < 1, (prices-(prices*0.1)))\n",
    "print(prices_discount)"
   ]
  },
  {
   "cell_type": "markdown",
   "id": "96351877-aefb-4cc8-8e75-eceba286db3d",
   "metadata": {},
   "source": [
    "### Step 3"
   ]
  },
  {
   "cell_type": "code",
   "execution_count": null,
   "id": "6a1d92dc-1821-49fe-868b-77b7e2ee2e58",
   "metadata": {
    "tags": []
   },
   "outputs": [],
   "source": [
    "prices.mean()"
   ]
  },
  {
   "cell_type": "code",
   "execution_count": null,
   "id": "898952d8-9a72-440e-98f7-4d9a50ebe2d2",
   "metadata": {
    "tags": []
   },
   "outputs": [],
   "source": [
    "greater_than_one = (prices[prices > 1]).count()\n",
    "print(greater_than_one)"
   ]
  },
  {
   "cell_type": "code",
   "execution_count": null,
   "id": "88539d19-c5e9-4d6f-a8d0-43e0a38fb3b8",
   "metadata": {
    "tags": []
   },
   "outputs": [],
   "source": [
    "prices.max()-prices.min()"
   ]
  },
  {
   "cell_type": "markdown",
   "id": "9d3bde1d-ffde-4914-9272-cedc171c229b",
   "metadata": {},
   "source": [
    "### Step 4"
   ]
  },
  {
   "cell_type": "code",
   "execution_count": null,
   "id": "47334003-29c7-4a2f-9d35-a429af67b7fd",
   "metadata": {
    "tags": []
   },
   "outputs": [],
   "source": [
    "prices['fig'] = 1.2\n",
    "print(prices)\n"
   ]
  },
  {
   "cell_type": "code",
   "execution_count": null,
   "id": "7fd0cd2e-946b-4383-a317-109afd42439b",
   "metadata": {
    "tags": []
   },
   "outputs": [],
   "source": [
    "fruits = fruits.drop(labels = [1])\n",
    "print(fruits)\n",
    "\n",
    "prices = prices.drop(labels = ['banana'])\n",
    "print(prices)"
   ]
  },
  {
   "cell_type": "code",
   "execution_count": null,
   "id": "9ede52a7-1e9a-43e0-9d88-a4a5d9e3071c",
   "metadata": {
    "tags": []
   },
   "outputs": [],
   "source": [
    "# Sort by values\n",
    "fruits_sorted = fruits.sort_values()\n",
    "print(fruits_sorted)\n",
    "\n",
    "# Sort by index\n",
    "prices_sorted_by_index = prices.sort_index()\n",
    "print(prices_sorted_by_index)"
   ]
  },
  {
   "cell_type": "code",
   "execution_count": null,
   "id": "6a680f74-5f18-4f47-b512-e46a83262486",
   "metadata": {},
   "outputs": [],
   "source": []
  }
 ],
 "metadata": {
  "kernelspec": {
   "display_name": "Python 3.10.0",
   "language": "python",
   "name": "python3.10.0"
  },
  "language_info": {
   "codemirror_mode": {
    "name": "ipython",
    "version": 3
   },
   "file_extension": ".py",
   "mimetype": "text/x-python",
   "name": "python",
   "nbconvert_exporter": "python",
   "pygments_lexer": "ipython3",
   "version": "3.10.0"
  }
 },
 "nbformat": 4,
 "nbformat_minor": 5
}
