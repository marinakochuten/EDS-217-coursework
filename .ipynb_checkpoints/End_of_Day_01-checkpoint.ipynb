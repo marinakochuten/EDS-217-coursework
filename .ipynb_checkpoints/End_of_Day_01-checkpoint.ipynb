{
 "cells": [
  {
   "cell_type": "markdown",
   "id": "a2dbb3a4-d997-4e2a-a44e-7aa895aea902",
   "metadata": {},
   "source": [
    "# Example Python Data Science Workflow\n",
    "\n",
    "Steps:\n",
    "0. Get Ready\n",
    "1. Import\n",
    "2. Clean\n",
    "3. Filter\n",
    "4. Sort\n",
    "5. Transform\n",
    "6. Group\n",
    "7. Aggregate\n",
    "8. Plot\n",
    "\n",
    "## 0. Get Ready"
   ]
  },
  {
   "cell_type": "code",
   "execution_count": null,
   "id": "53855538-a535-4331-bd7d-dee3082b1d03",
   "metadata": {
    "tags": []
   },
   "outputs": [],
   "source": [
    "import pandas as pd \n",
    "import matplotlib.pyplot as plt"
   ]
  },
  {
   "cell_type": "markdown",
   "id": "fb98b66e-ec5a-4760-a4e7-e770e833dcd3",
   "metadata": {},
   "source": [
    "## 1. Import"
   ]
  },
  {
   "cell_type": "code",
   "execution_count": null,
   "id": "eedae274-6dc4-400f-b606-1c5b7cd042d5",
   "metadata": {
    "tags": []
   },
   "outputs": [],
   "source": [
    "# Make a url variable:\n",
    "url = \"https://raw.githubusercontent.com/environmental-data-science/eds217-day0-comp/main/data/raw_data/toolik_weather.csv\""
   ]
  },
  {
   "cell_type": "code",
   "execution_count": null,
   "id": "7cd2483b-bacc-4ed8-b50b-764192918878",
   "metadata": {
    "tags": []
   },
   "outputs": [],
   "source": [
    "# Import the url to a dataframe using pd.read_csv\n",
    "df = pd.read_csv(url)"
   ]
  },
  {
   "cell_type": "code",
   "execution_count": null,
   "id": "952c7183-d8c3-4720-b629-345a863b7daa",
   "metadata": {
    "tags": []
   },
   "outputs": [],
   "source": [
    "df.head()"
   ]
  },
  {
   "cell_type": "code",
   "execution_count": null,
   "id": "14362ffc-96b7-4df6-bffe-1e68bf1ecf44",
   "metadata": {
    "tags": []
   },
   "outputs": [],
   "source": [
    "# Count the number of missing (null) values in each column.\n",
    "df.isnull().sum()"
   ]
  },
  {
   "cell_type": "code",
   "execution_count": null,
   "id": "9f30c125-b7be-4977-a255-94bd6ad6eadf",
   "metadata": {
    "tags": []
   },
   "outputs": [],
   "source": [
    "df.describe()"
   ]
  },
  {
   "cell_type": "code",
   "execution_count": null,
   "id": "777c43ee-cf2d-48fa-8f50-d9ed06fe9d18",
   "metadata": {
    "tags": []
   },
   "outputs": [],
   "source": [
    "df.info()"
   ]
  },
  {
   "cell_type": "markdown",
   "id": "c79f0729-df4d-4b94-a1f3-dd15bb1640b2",
   "metadata": {},
   "source": [
    "### Steps 2-5 (intentionally left blank)\n",
    "\n",
    "### Steps 6: Group by Month"
   ]
  },
  {
   "cell_type": "code",
   "execution_count": null,
   "id": "25af9b7d-02ab-4663-b955-7d87a10c776d",
   "metadata": {
    "tags": []
   },
   "outputs": [],
   "source": [
    "monthly = df.groupby('Month')"
   ]
  },
  {
   "cell_type": "markdown",
   "id": "0dfb2704-4c00-4511-bced-54642b27068d",
   "metadata": {},
   "source": [
    "### Step 7: Aggregate (get monthly average)"
   ]
  },
  {
   "cell_type": "code",
   "execution_count": null,
   "id": "6006e7aa-4357-4980-b279-c45375ccae4e",
   "metadata": {
    "tags": []
   },
   "outputs": [],
   "source": [
    "monthly_means = monthly['Daily_AirTemp_Mean_C'].mean()\n",
    "print(monthly_means)"
   ]
  },
  {
   "cell_type": "markdown",
   "id": "22b6c3ec-c377-46b9-bf59-f3c15334cbca",
   "metadata": {},
   "source": [
    "### Step 8: Make a plot!"
   ]
  },
  {
   "cell_type": "code",
   "execution_count": null,
   "id": "73ceb105-4062-446c-820e-3d8f468509ef",
   "metadata": {
    "tags": []
   },
   "outputs": [],
   "source": [
    "month_names = ['Jan', 'Feb', 'Mar', 'Apr', 'May', 'Jun', 'Jul', 'Aug', 'Sep', 'Oct', 'Nov', 'Dec']\n",
    "plt.bar(month_names, monthly_means)"
   ]
  }
 ],
 "metadata": {
  "kernelspec": {
   "display_name": "Python 3.10.0",
   "language": "python",
   "name": "python3.10.0"
  },
  "language_info": {
   "codemirror_mode": {
    "name": "ipython",
    "version": 3
   },
   "file_extension": ".py",
   "mimetype": "text/x-python",
   "name": "python",
   "nbconvert_exporter": "python",
   "pygments_lexer": "ipython3",
   "version": "3.10.0"
  }
 },
 "nbformat": 4,
 "nbformat_minor": 5
}
