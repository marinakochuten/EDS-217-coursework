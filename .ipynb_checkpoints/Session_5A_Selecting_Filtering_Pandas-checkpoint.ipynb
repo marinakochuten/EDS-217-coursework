{
 "cells": [
  {
   "cell_type": "markdown",
   "id": "2cb5140f-612c-403c-a9e9-bbbcc74d2ce2",
   "metadata": {},
   "source": [
    "# Day 5 : Basic Pandas Selection and Filtering\n",
    "\n",
    "[link to session](https://eds-217-essential-python.github.io/course-materials/live-coding/5a_selecting_and_filtering.html)\n",
    "\n",
    "date: 09/09/2024"
   ]
  },
  {
   "cell_type": "markdown",
   "id": "39358e11-0db8-484c-a304-575dd0790364",
   "metadata": {},
   "source": [
    "# Introduction to Pandas Selection and Filtering\n",
    "\n",
    "## 1. Setup"
   ]
  },
  {
   "cell_type": "code",
   "execution_count": null,
   "id": "8049f775-6875-4d18-8910-4644a68f9440",
   "metadata": {
    "tags": []
   },
   "outputs": [],
   "source": [
    "import pandas as pd\n",
    "\n",
    "# Load our dataset:\n",
    "url = 'https://bit.ly/eds217-studentdata'\n",
    "\n",
    "# make a dataframe\n",
    "df = pd.read_csv(url)"
   ]
  },
  {
   "cell_type": "code",
   "execution_count": null,
   "id": "0445b8fe-2c5e-4baf-be9c-f9d37ed7f076",
   "metadata": {
    "tags": []
   },
   "outputs": [],
   "source": [
    "# take a look, make sure it's what is expected\n",
    "df.head()"
   ]
  },
  {
   "cell_type": "markdown",
   "id": "4c7003a3-46f9-457e-a6ee-fc26948d9581",
   "metadata": {},
   "source": [
    "## 2. Basic Selection"
   ]
  },
  {
   "cell_type": "code",
   "execution_count": null,
   "id": "6b00e93d-90f0-4470-8a41-ad15d95a9045",
   "metadata": {
    "tags": []
   },
   "outputs": [],
   "source": [
    "# selecting a single column from a dataframe and assign it to a Series:\n",
    "majors = df['major']\n",
    "# check that we made a series\n",
    "type(majors)\n",
    "\n",
    "# selecting multiple columns from a dataframe and assign it to a new dataframe:\n",
    "# provide a list of columns into the selector/filter brackets\n",
    "id_major = df[['student_id', 'major']]\n",
    "type(id_major)"
   ]
  },
  {
   "cell_type": "markdown",
   "id": "79be6ef2-d247-4de2-a1a4-ab41e7cf6874",
   "metadata": {},
   "source": [
    "## 3. Filtering Based on Column Values\n",
    "\n",
    "### 3a. Single Condition Filtering"
   ]
  },
  {
   "cell_type": "code",
   "execution_count": null,
   "id": "4d864527-102b-469e-b05e-a1dec96397cf",
   "metadata": {
    "tags": []
   },
   "outputs": [],
   "source": [
    "# filtering on the value of a single condition (usually a single column's values)\n",
    "# select only rows with gpa > 3.7\n",
    "high_achievers = df[df['gpa'] > 3.7]\n",
    "type(high_achievers)"
   ]
  },
  {
   "cell_type": "markdown",
   "id": "08182390-527a-4558-93b6-544f52918989",
   "metadata": {},
   "source": [
    "### 3b. Multiple Conditions with Logical Operators"
   ]
  },
  {
   "cell_type": "code",
   "execution_count": null,
   "id": "5a5d0677-96e8-4019-a770-c760442b14bd",
   "metadata": {
    "tags": []
   },
   "outputs": [],
   "source": [
    "# filtering on the values of multiple columns\n",
    "# usually multiple column values, but not always\n",
    "# find students less than 20 years old majoring in mathematics\n",
    "young_math = df[ (df['age'] < 20) & (df['major'] == 'Mathematics') ]\n",
    "type(young_math)\n",
    "\n",
    "# find students who are either 22 years old or have a gpa of 3.5 exactly\n",
    "specific_students = df[ (df['age'] == 22) | (df['gpa'] == 3.5) ]\n",
    "type(specific_students)"
   ]
  },
  {
   "cell_type": "markdown",
   "id": "687903e2-61e9-48df-bcc4-e681442a6944",
   "metadata": {},
   "source": [
    "### 3c. Using the filter command\n",
    "\n",
    "Use the filter command to match specific columns or rows based on labels (column names or index labels)\n",
    "\n",
    "use the `like` argument to filter/select substrings (especially useful for large dataframes with many columns!)"
   ]
  },
  {
   "cell_type": "code",
   "execution_count": null,
   "id": "f898df44-f50b-4c86-ba63-5de9fd0c8965",
   "metadata": {
    "tags": []
   },
   "outputs": [],
   "source": [
    "# filter all the columns that contain the substring 'id':\n",
    "id_columns = df.filter(like = 'id')\n",
    "print(id_columns)\n",
    "\n",
    "# filter all the rows where the index contains a '5':\n",
    "# to filter rows, axis=0\n",
    "rows_with_5 = df.filter(like = '5', axis = 0)\n",
    "print(rows_with_5)"
   ]
  },
  {
   "cell_type": "markdown",
   "id": "5d2859d6-2b10-46a8-bf4b-a11bf27843e7",
   "metadata": {},
   "source": [
    "The `filter()` commend also can take a `regex` argument\n"
   ]
  },
  {
   "cell_type": "code",
   "execution_count": null,
   "id": "be7b7f4b-468d-431f-a30a-0b529475e098",
   "metadata": {
    "tags": []
   },
   "outputs": [],
   "source": [
    "# filter column names using a `regex` instead of `like`\n",
    "\n",
    "# find all the columns that end in the letter `e`:\n",
    "# regex has special notation, here the $ indicates that `e` has to be at the end of the string\n",
    "e_ending_columns = df.filter(regex='e$')\n",
    "print(e_ending_columns.head())"
   ]
  },
  {
   "cell_type": "markdown",
   "id": "c1116dd6-d7de-4c86-9747-4c3ecea9b17c",
   "metadata": {},
   "source": [
    "## [RegexLearn](https://regexlearn.com/learn/regex101)\n",
    "\n",
    "its a game to learn regular expressions hehe"
   ]
  },
  {
   "cell_type": "markdown",
   "id": "72decb9e-db4c-4922-bf56-6548046bf976",
   "metadata": {},
   "source": [
    "## 4. Combining Selection and Filtering\n",
    "\n",
    "use method chaining to append a selection to the results of a filter before assigning it to a new variable"
   ]
  },
  {
   "cell_type": "code",
   "execution_count": null,
   "id": "61b6cf72-4d39-41b1-856e-ee3a28c85f48",
   "metadata": {
    "tags": []
   },
   "outputs": [],
   "source": [
    "# get a list of majors for students under 21:\n",
    "\n",
    "young_majors = df[ df['age'] < 21 ]['major']\n",
    "print(young_majors.head())"
   ]
  },
  {
   "cell_type": "markdown",
   "id": "eeb3c444-8591-4190-ad07-28f7a98a17f3",
   "metadata": {},
   "source": [
    "## 5. Using .isin() for Multiple Values\n",
    "\n",
    "`.isin()` is useful for filtering rows that met any of a list of criteria. For example, filtering by a subset of majors"
   ]
  },
  {
   "cell_type": "code",
   "execution_count": null,
   "id": "61a33d38-0ff8-40f2-a45d-fa620f9be691",
   "metadata": {
    "tags": []
   },
   "outputs": [],
   "source": [
    "stem_majors = df [ df['major'].isin(['Chemistry', 'Engineering', 'Physics'])]\n",
    "                  \n",
    "print(stem_majors.head())"
   ]
  },
  {
   "cell_type": "markdown",
   "id": "8e2c2832-a5d2-40a6-ac68-ec6f7ca95173",
   "metadata": {},
   "source": [
    "## 6. Filtering with String Methods\n",
    "\n",
    "Pandas provides string methods that can be used to filter text data."
   ]
  },
  {
   "cell_type": "code",
   "execution_count": null,
   "id": "e8a43ce0-9c5b-4df6-a91e-c0331bcb633f",
   "metadata": {
    "tags": []
   },
   "outputs": [],
   "source": [
    "# filter majors that contain the word 'Science'\n",
    "science_majors = df[ df['major'].str.contains('Science')]\n",
    "print(science_majors)"
   ]
  },
  {
   "cell_type": "markdown",
   "id": "f5997a59-73d9-4d4d-ab80-8fda7eeb22b8",
   "metadata": {},
   "source": [
    "## 7. Advanced Selection: .loc vs .iloc"
   ]
  },
  {
   "cell_type": "code",
   "execution_count": null,
   "id": "eac821f8-efdf-4838-b1a6-500edb9f45ab",
   "metadata": {},
   "outputs": [],
   "source": []
  },
  {
   "cell_type": "markdown",
   "id": "b7a14b2f-9d45-41f4-bc5b-d48f3d50336f",
   "metadata": {},
   "source": [
    "## Conclusion"
   ]
  },
  {
   "cell_type": "code",
   "execution_count": null,
   "id": "a2bcba8e-1466-43df-8d86-b6ebdfc20cd1",
   "metadata": {},
   "outputs": [],
   "source": []
  }
 ],
 "metadata": {
  "kernelspec": {
   "display_name": "Python 3 (ipykernel)",
   "language": "python",
   "name": "python3"
  },
  "language_info": {
   "codemirror_mode": {
    "name": "ipython",
    "version": 3
   },
   "file_extension": ".py",
   "mimetype": "text/x-python",
   "name": "python",
   "nbconvert_exporter": "python",
   "pygments_lexer": "ipython3",
   "version": "3.7.13"
  }
 },
 "nbformat": 4,
 "nbformat_minor": 5
}
