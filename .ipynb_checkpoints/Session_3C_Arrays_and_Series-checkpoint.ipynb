{
 "cells": [
  {
   "cell_type": "markdown",
   "id": "59a390c4-b5fb-4b36-8b0a-582a2cb6980f",
   "metadata": {},
   "source": [
    "# Day 3: Session C - [Session Topic]\n",
    "\n",
    "[Link to session webpage](https://eds-217-essential-python.github.io/course-materials/interactive-sessions/3c_arrays_and_series.html)\n",
    "\n",
    "Date: 09/05/2024"
   ]
  },
  {
   "cell_type": "code",
   "execution_count": null,
   "id": "3a50a10c-6d5f-4f42-bc80-5885e8699381",
   "metadata": {
    "tags": []
   },
   "outputs": [],
   "source": [
    "import numpy as np\n",
    "import pandas as pd"
   ]
  },
  {
   "cell_type": "markdown",
   "id": "96c98463-23fe-4d78-9b87-ae6b2aceab46",
   "metadata": {},
   "source": [
    "### Creating NumPy Arrays"
   ]
  },
  {
   "cell_type": "code",
   "execution_count": null,
   "id": "5faa0d70-41b1-450d-88cd-99cf13875e22",
   "metadata": {
    "tags": []
   },
   "outputs": [],
   "source": [
    "# Create a 1-d array (which is a flat list)\n",
    "my_list = [1 , 2, 3, 4, 5]\n",
    "my_array = np.array(my_list)\n",
    "print(my_array)\n",
    "print(my_list)\n",
    "print(type(my_array))"
   ]
  },
  {
   "cell_type": "code",
   "execution_count": null,
   "id": "15eb6436-4355-485a-9a6f-1e7941c7932d",
   "metadata": {
    "tags": []
   },
   "outputs": [],
   "source": [
    "# Create a 2-d array by passing a list of lists\n",
    "my_lists = [[1, 2, 3], [4, 5, 6]]\n",
    "my_arrays = np.array(my_lists)\n",
    "print(my_arrays)\n",
    "print(type(my_arrays))"
   ]
  },
  {
   "cell_type": "markdown",
   "id": "9733231a-af6e-43ec-bfcc-f1f66f40ef94",
   "metadata": {},
   "source": [
    "## Basic Array Operations\n",
    "\n",
    "`min`, `max`, `mean`, etc..."
   ]
  },
  {
   "cell_type": "code",
   "execution_count": null,
   "id": "4d375360-e599-4178-8fa1-b64dcdb739a8",
   "metadata": {
    "tags": []
   },
   "outputs": [],
   "source": [
    "# Global min, max, are still around ...\n",
    "min([3, 4, 5])\n",
    "\n",
    "# But np uses use its own methods for basic operation\n",
    "print(\"np.min of\", my_array, \"is\", np.min(my_array))\n",
    "\n",
    "# Get  the max:\n",
    "print(\"np.max of\", my_array, \"is\", np.max(my_array))\n",
    "\n",
    "# Get the mean:\n",
    "print(f\"np.mean of {my_array} is {np.mean(my_array)}\")\n",
    "\n",
    "# Standard deviation:\n",
    "print(f\"np.std of {my_array} is {np.std(my_array):.2f}\")    # :.2f round to 2 significant figs\n",
    "\n",
    "# Array transformations:\n",
    "# multiply every element in an array by 2:\n",
    "print(my_array * 2)\n",
    "print(my_list * 2)  # doesn't really work on a list. transformations are way easier with arrays\n",
    "\n",
    "# add 2 to every element in an array:\n",
    "print(my_array + 2)"
   ]
  },
  {
   "cell_type": "markdown",
   "id": "3896d3f6-aac5-4ada-b472-52c9a361635a",
   "metadata": {},
   "source": [
    "## Using Pandas Series\n",
    "\n",
    "A series is a 1-dimensional labelled array\n",
    "\n",
    "### Creating a Series\n",
    "We create them using the pd.Series() command. "
   ]
  },
  {
   "cell_type": "code",
   "execution_count": null,
   "id": "91cf8e75-9647-44dd-b5e5-d6ef92e4952e",
   "metadata": {
    "tags": []
   },
   "outputs": [],
   "source": [
    "# Create a series from a list:\n",
    "s1 = pd.Series([1, 2, 3, 4, 5])\n",
    "print(s1)\n",
    "\n",
    "s2 = pd.Series([10, 20, 30, 40, 50], index = ['a', 'b', 'c', 'd', 'e'])     # change the labels! \n",
    "print(s2)"
   ]
  },
  {
   "cell_type": "code",
   "execution_count": null,
   "id": "bd28258c-bd18-4310-a0ed-9301d9cd6cc3",
   "metadata": {
    "tags": []
   },
   "outputs": [],
   "source": [
    "# index into your series using your label!\n",
    "s2['a']"
   ]
  },
  {
   "cell_type": "markdown",
   "id": "61035330-2857-4719-b7e2-1f9b2356aa8b",
   "metadata": {
    "tags": []
   },
   "source": [
    "### Basic Series Operations\n",
    "\n",
    "#### Accessing and Slicing"
   ]
  },
  {
   "cell_type": "code",
   "execution_count": null,
   "id": "87281bcc-074c-4456-8cd5-a3e8cc191271",
   "metadata": {
    "tags": []
   },
   "outputs": [],
   "source": [
    "# access based on index value\n",
    "print(\"The value at index 'c':\", s2['c'])\n",
    "\n",
    "# access based on location (like a list index position):\n",
    "print(\"The value of the first three elements:\\n\", s2[ :3])"
   ]
  },
  {
   "cell_type": "markdown",
   "id": "336ec687-bda5-4347-a085-ebab00a6b899",
   "metadata": {},
   "source": [
    "#### Arithmetic and Statistics"
   ]
  },
  {
   "cell_type": "code",
   "execution_count": null,
   "id": "6398bbde-8047-4bc6-99b0-4193ed82094f",
   "metadata": {
    "tags": []
   },
   "outputs": [],
   "source": [
    "# Add 5 to every element\n",
    "print(s2 + 5)\n",
    "# this is the same as we did in arrays"
   ]
  },
  {
   "cell_type": "code",
   "execution_count": null,
   "id": "eaeb013a-b3d6-47da-ad4a-cfccafd224f2",
   "metadata": {
    "tags": []
   },
   "outputs": [],
   "source": [
    "# calculate the mean:\n",
    "print(s2.mean())\n",
    "\n",
    "# std dev\n",
    "print(s2.std())\n",
    "\n",
    "# median\n",
    "print(s2.median())"
   ]
  },
  {
   "cell_type": "code",
   "execution_count": null,
   "id": "e11c5959-426a-4f3f-809d-25752b5c7676",
   "metadata": {},
   "outputs": [],
   "source": []
  }
 ],
 "metadata": {
  "kernelspec": {
   "display_name": "Python 3.10.0",
   "language": "python",
   "name": "python3.10.0"
  },
  "language_info": {
   "codemirror_mode": {
    "name": "ipython",
    "version": 3
   },
   "file_extension": ".py",
   "mimetype": "text/x-python",
   "name": "python",
   "nbconvert_exporter": "python",
   "pygments_lexer": "ipython3",
   "version": "3.10.0"
  }
 },
 "nbformat": 4,
 "nbformat_minor": 5
}
