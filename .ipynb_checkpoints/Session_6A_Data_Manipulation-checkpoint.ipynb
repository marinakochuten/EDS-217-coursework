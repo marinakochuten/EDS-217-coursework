{
 "cells": [
  {
   "cell_type": "markdown",
   "id": "8b7c66f3-aeb5-4d9b-bf83-f736ece4539d",
   "metadata": {},
   "source": [
    "# Day 6: Session A - Sorting, Grouping, Joining, and Applying\n",
    "\n",
    "[Link to session webpage](https://eds-217-essential-python.github.io/course-materials/interactive-sessions/6a_grouping_joining_sorting.html)\n",
    "\n",
    "Date: 09/10/2024"
   ]
  },
  {
   "cell_type": "code",
   "execution_count": null,
   "id": "c8bbea4d-38b2-4766-b9fc-a497411f5673",
   "metadata": {
    "tags": []
   },
   "outputs": [],
   "source": [
    "import pandas as pd\n",
    "import numpy as np\n",
    "import matplotlib.pyplot as plt\n",
    "import seaborn as sns"
   ]
  },
  {
   "cell_type": "code",
   "execution_count": null,
   "id": "f8b17744-93ea-4887-afba-09a6b34f5324",
   "metadata": {
    "tags": []
   },
   "outputs": [],
   "source": [
    "# create some random data:\n",
    "np.random.seed(42)  # sets a seed for the random functions for reproducability\n",
    "dates = pd.date_range(start='2023-01-01', periods=100)\n",
    "\n",
    "data = {\n",
    "    'date': dates,\n",
    "    'site': np.random.choice(['Forest', 'Grassland', 'Wetland'], 100),\n",
    "    'species': np.random.choice(['Oak', 'Maple', 'Pine', 'Birch'], 100),\n",
    "    'count': np.random.randint(1, 20, 100),\n",
    "    'temperature': np.random.normal(15, 5, 100)\n",
    "}\n",
    "\n",
    "df = pd.DataFrame(data)\n",
    "print(df.head())"
   ]
  },
  {
   "cell_type": "markdown",
   "id": "6589a056-c9eb-4040-b8b8-7e38ffdbc260",
   "metadata": {},
   "source": [
    "## Sorting Data\n",
    "\n",
    "### Basic Sorting"
   ]
  },
  {
   "cell_type": "code",
   "execution_count": null,
   "id": "8d23092d-a04f-4835-bb90-b46f7b9709c1",
   "metadata": {
    "tags": []
   },
   "outputs": [],
   "source": [
    "df_sorted = df.sort_values('count', ascending = False)\n",
    "print(df_sorted.head())"
   ]
  },
  {
   "cell_type": "markdown",
   "id": "6698bca8-d0ab-4d23-9c03-01fe99fc23f3",
   "metadata": {},
   "source": [
    "### Multi-column Sorting\n",
    "\n",
    "more advanced sorting, and we can change sort order between different rows"
   ]
  },
  {
   "cell_type": "code",
   "execution_count": null,
   "id": "9539d0e2-1624-41c2-bb11-8032c10183b3",
   "metadata": {
    "tags": []
   },
   "outputs": [],
   "source": [
    "# first sort by 'site'and then by 'count' \n",
    "df_multi_sorted = df.sort_values(['site', 'count'], ascending=[True, False])\n",
    "print(df_multi_sorted)\n",
    "\n",
    "# no need for .copy() when sorting. sorting automatically makes a new data frame."
   ]
  },
  {
   "cell_type": "markdown",
   "id": "dc63ce98-1efe-4a4e-9555-d7349269c23d",
   "metadata": {},
   "source": [
    "## Grouping and Aggregating\n",
    "\n",
    "### Basic Groupby"
   ]
  },
  {
   "cell_type": "code",
   "execution_count": null,
   "id": "3233b38d-572e-4667-92c9-81b741bc0817",
   "metadata": {
    "tags": []
   },
   "outputs": [],
   "source": [
    "# group by site, them take the sums of the count column\n",
    "sites = df.groupby('site')['count'].sum()\n",
    "print(sites)"
   ]
  },
  {
   "cell_type": "markdown",
   "id": "4200dc92-6014-4352-b6a0-272829183af8",
   "metadata": {},
   "source": [
    "### Multiple Aggregations\n",
    "\n",
    "We can provide a list of aggregation functions instead of just one function using `agg()`"
   ]
  },
  {
   "cell_type": "code",
   "execution_count": null,
   "id": "4be8a657-92df-4723-a8b6-23a866023ceb",
   "metadata": {
    "tags": []
   },
   "outputs": [],
   "source": [
    "# for one column, let's get the results of multiple aggregations:\n",
    "# pass the commands in as strings, which is a little weird\n",
    "site_stats = df.groupby('site')['count'].agg(['sum', 'min', 'max'])\n",
    "print(site_stats)"
   ]
  },
  {
   "cell_type": "code",
   "execution_count": null,
   "id": "67acce4c-986f-4a64-8b18-7a6204f7c298",
   "metadata": {
    "tags": []
   },
   "outputs": [],
   "source": [
    "# provide column-specific aggregations in a dictionary to agg():\n",
    "site_stats = df.groupby('site').agg({\n",
    "    'count': ['sum', 'min', 'max'],\n",
    "    'species': 'nunique',\n",
    "    'temperature': 'mean'\n",
    "})\n",
    "print(site_stats)"
   ]
  },
  {
   "cell_type": "markdown",
   "id": "4d673781-91e3-4bc4-ad29-41019a1a28c2",
   "metadata": {},
   "source": [
    "## Joining Data"
   ]
  },
  {
   "cell_type": "code",
   "execution_count": null,
   "id": "3a040fb3-b542-4f8c-892c-04ab1473d2ad",
   "metadata": {
    "tags": []
   },
   "outputs": [],
   "source": [
    "# create a second dataframe with site characteristics\n",
    "site_data = pd.DataFrame({\n",
    "    'site': ['Forest', 'Grassland', 'Wetland'],\n",
    "    'soil_pH': [6.5, 7.2, 6.8],\n",
    "    'annual_rainfall': [1200, 800, 1500]\n",
    "})"
   ]
  },
  {
   "cell_type": "code",
   "execution_count": null,
   "id": "a26e07fb-afc0-4c19-a29f-6d5d05b26be3",
   "metadata": {
    "tags": []
   },
   "outputs": [],
   "source": [
    "# performing a join uding pd.merge command:\n",
    "# arguments:\n",
    "# 1. initial (main?) dataframe\n",
    "# 2. new dataframe\n",
    "# 3. on = 'site' <-- column that you want to join on\n",
    "# 4. how = 'inner' <-- how to do the join (inner is most common)\n",
    "merged_df = pd.merge(df, site_data, on = 'site', how = 'inner')\n",
    "print(merged_df.head())"
   ]
  },
  {
   "cell_type": "code",
   "execution_count": null,
   "id": "26c97e05-7130-45f8-95aa-66af10ad855a",
   "metadata": {
    "tags": []
   },
   "outputs": [],
   "source": [
    "# for timeseries data, it's often nice to make the row index the timestamp!\n",
    "# use set_index() method to set the index to a specific column\n",
    "merged_df.set_index('date')"
   ]
  },
  {
   "cell_type": "markdown",
   "id": "b940695b-b47d-4454-bb5a-d4ba0b4ba0a8",
   "metadata": {},
   "source": [
    "### Using `inplace` keyword arguments in pandas. \n",
    "\n",
    "If you are calling a method that usually generates a new dataframe (like, `set_index()`, `sort_values()`) and you want the operation to act on the dataframe without making a copy...\n",
    "\n",
    "Then you can use the `inplace` keyword argument to force this behavior."
   ]
  },
  {
   "cell_type": "code",
   "execution_count": null,
   "id": "875d5bdc-fcd4-4190-adef-7b08a7226ed0",
   "metadata": {
    "tags": []
   },
   "outputs": [],
   "source": [
    "# Make a copy so we dont mess up our dataframe while playing around.\n",
    "df_copy = merged_df.copy()\n",
    "print(\"Before:\\n\", df_copy.head())\n",
    "\n",
    "df_copy.set_index('date', inplace = True)\n",
    "print(\"With inplace:\\n\", df_copy.head())"
   ]
  },
  {
   "cell_type": "code",
   "execution_count": null,
   "id": "8d2ce69d-698b-4f68-87e3-bbf74113351e",
   "metadata": {},
   "outputs": [],
   "source": []
  }
 ],
 "metadata": {
  "kernelspec": {
   "display_name": "Python 3.10.0",
   "language": "python",
   "name": "python3.10.0"
  },
  "language_info": {
   "codemirror_mode": {
    "name": "ipython",
    "version": 3
   },
   "file_extension": ".py",
   "mimetype": "text/x-python",
   "name": "python",
   "nbconvert_exporter": "python",
   "pygments_lexer": "ipython3",
   "version": "3.10.0"
  }
 },
 "nbformat": 4,
 "nbformat_minor": 5
}
