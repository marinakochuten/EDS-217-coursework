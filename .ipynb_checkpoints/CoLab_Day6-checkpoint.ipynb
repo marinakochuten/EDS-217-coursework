{
 "cells": [
  {
   "cell_type": "markdown",
   "id": "e7d949fc-dde3-4b0e-bf16-5a4da4d2d459",
   "metadata": {},
   "source": [
    "# [CoLab 6](https://eds-217-essential-python.github.io/course-materials/coding-colabs/6b_advanced_data_manipulation.html)\n",
    "\n",
    "09/10/2024\n"
   ]
  },
  {
   "cell_type": "code",
   "execution_count": null,
   "id": "c15eaaf8-4777-498c-917a-3e342a0c89c6",
   "metadata": {
    "tags": []
   },
   "outputs": [],
   "source": [
    "import pandas as pd\n",
    "import matplotlib.pyplot as plt\n",
    "import seaborn as sns\n",
    "\n",
    "# Load the temperature anomaly dataset\n",
    "temp_url = \"https://bit.ly/monthly_temp\"\n",
    "temp_df = pd.read_csv(temp_url, parse_dates=['Date'])\n",
    "\n",
    "# Load the CO2 concentration dataset\n",
    "co2_url = \"https://bit.ly/monthly_CO2\"\n",
    "co2_df = pd.read_csv(co2_url, parse_dates=['Date'])\n",
    "\n",
    "print(\"Temperature data:\")\n",
    "print(temp_df.head())\n",
    "print(\"\\nCO2 data:\")\n",
    "print(co2_df.head())\n"
   ]
  },
  {
   "cell_type": "markdown",
   "id": "33f0d51f-2745-49e4-a105-1c5729970725",
   "metadata": {},
   "source": [
    "## Task 1: Data Prep"
   ]
  },
  {
   "cell_type": "code",
   "execution_count": null,
   "id": "2bfee698-036b-4807-8048-a8b28cae96b0",
   "metadata": {
    "tags": []
   },
   "outputs": [],
   "source": [
    "# set date column as index for both dataframes\n",
    "temp_df.set_index('Date', inplace = True)\n",
    "print(temp_df.head())\n",
    "\n",
    "co2_df.set_index('Date', inplace = True)\n",
    "print(co2_df.head())"
   ]
  },
  {
   "cell_type": "code",
   "execution_count": null,
   "id": "58a05e7d-2e6c-4da1-8439-68ff012d870b",
   "metadata": {
    "tags": []
   },
   "outputs": [],
   "source": [
    "# ensure no missing values\n",
    "\n",
    "temp_df.isnull().sum()\n",
    "co2_df.isnull().sum()"
   ]
  },
  {
   "cell_type": "markdown",
   "id": "7bfb9aa0-1459-49a0-8cc9-2e8fdb59a30e",
   "metadata": {},
   "source": [
    "## Task 2 - Joining Datasets"
   ]
  },
  {
   "cell_type": "code",
   "execution_count": null,
   "id": "03bebbe1-9b79-49ee-9833-6b478be8b89a",
   "metadata": {
    "tags": []
   },
   "outputs": [],
   "source": [
    "# merge temp and co2 based on date index\n",
    "merged_df = pd.merge(temp_df, co2_df, on = 'Date', how = 'inner')\n",
    "print(merged_df.head())"
   ]
  },
  {
   "cell_type": "code",
   "execution_count": null,
   "id": "0d3332c2-711a-46aa-91ae-0e8157588a9b",
   "metadata": {
    "tags": []
   },
   "outputs": [],
   "source": [
    "# handle any missing values introduced by the merge\n",
    "merged_df.isnull().sum()"
   ]
  },
  {
   "cell_type": "code",
   "execution_count": null,
   "id": "65fb3e9f-610e-4837-a11a-c6d369df7e16",
   "metadata": {
    "tags": []
   },
   "outputs": [],
   "source": [
    "# Create some plots showing temperature anomalies and CO2 concentrations over time using pandas built-in plotting functions.\n",
    "merged_df.plot.line(subplots=True)"
   ]
  },
  {
   "cell_type": "markdown",
   "id": "c548dc2f-0df2-405c-84d5-6cfd04c920e9",
   "metadata": {
    "tags": []
   },
   "source": [
    "## Task 3: Time Series Analysis"
   ]
  },
  {
   "cell_type": "code",
   "execution_count": null,
   "id": "2d80a182-4d2d-4da5-ad2a-cafe921622c1",
   "metadata": {
    "tags": []
   },
   "outputs": [],
   "source": [
    "# 1. Resample data to annual averages (group by year and aggregate by mean)\n",
    "# explore data types\n",
    "# use .apply to access index values"
   ]
  },
  {
   "cell_type": "code",
   "execution_count": null,
   "id": "4219821e-e973-4bbb-be9b-7294dd594bda",
   "metadata": {
    "tags": []
   },
   "outputs": [],
   "source": [
    "merged_df.head()"
   ]
  },
  {
   "cell_type": "code",
   "execution_count": null,
   "id": "23904275-46f9-4abf-abcf-f51874c9ec02",
   "metadata": {
    "tags": []
   },
   "outputs": [],
   "source": [
    "# using apply() on an index. use `to_series()` of the index object and then pass that to your apply() command\n",
    "\n",
    "merged_df.index  # returns an index object. need a series"
   ]
  },
  {
   "cell_type": "code",
   "execution_count": null,
   "id": "e3ab3705-b79e-42eb-a9c7-cf62f483878b",
   "metadata": {},
   "outputs": [],
   "source": [
    "#merge_df['annual_ave'] = "
   ]
  },
  {
   "cell_type": "code",
   "execution_count": null,
   "id": "84fa34c6-bd5e-48af-8df4-6c28a11a1fdc",
   "metadata": {
    "tags": []
   },
   "outputs": [],
   "source": [
    "# merged_df.index.to_series().apply(function)\n",
    "# make a new column that pulls the year out of date\n",
    "\n",
    "#merged_df['year'] = merged_df.index.year"
   ]
  },
  {
   "cell_type": "code",
   "execution_count": null,
   "id": "d8a02bfc-08c2-498f-a427-b2f6fb59926c",
   "metadata": {
    "tags": []
   },
   "outputs": [],
   "source": [
    "agg_merge = merged_df.groupby(merged_df.index.year).agg({\n",
    "    'MonthlyAnomaly': 'mean',\n",
    "    'CO2Concentration': 'mean'})\n",
    "agg_merge"
   ]
  },
  {
   "cell_type": "code",
   "execution_count": null,
   "id": "e7f314e5-751e-4598-a784-e7fc18e4e295",
   "metadata": {
    "tags": []
   },
   "outputs": [],
   "source": [
    "# Calculate the year-over-year change in temperature anomalies and CO2 concentrations.\n",
    "\n",
    "agg_merge[['anomaly_change', 'co2_change']] = agg_merge[['MonthlyAnomaly', 'CO2Concentration']].diff()\n",
    "\n",
    "agg_merge"
   ]
  },
  {
   "cell_type": "code",
   "execution_count": null,
   "id": "7fc3febe-1b85-472c-85e3-893dc3a39b9f",
   "metadata": {
    "tags": []
   },
   "outputs": [],
   "source": [
    "# Create a scatter plot (use the plt.scatter() function) of annual temperature anomalies vs CO2 concentrations.\n",
    "\n",
    "#agg_merge.plot.scatter(x = 'anomaly_change', y = 'co2_change')\n",
    "plt.scatter(x = agg_merge['anomaly_change'], y = agg_merge['co2_change'])\n"
   ]
  },
  {
   "cell_type": "markdown",
   "id": "625eaaac-0e1b-43cb-b6c0-f3d95be35cab",
   "metadata": {},
   "source": [
    "## Task 4: Seasonal Analysis"
   ]
  },
  {
   "cell_type": "code",
   "execution_count": null,
   "id": "efcc919c-61e6-4860-b6a2-788599fc0629",
   "metadata": {
    "tags": []
   },
   "outputs": [],
   "source": [
    "# Create a function to extract the season from a given date \n",
    "# (hint: use the date.month attribute and if-elif-else to assign the season in your function).\n",
    "\n",
    "def season_func(date):\n",
    "    if (date.month >= 6) & (date.month <= 8):\n",
    "        return(\"Summer\")\n",
    "    elif (date.month >= 9) & (date.month <= 11):\n",
    "        return(\"Fall\")\n",
    "    elif (date.month == 12) | (date.month <= 2):\n",
    "        return(\"Winter\")\n",
    "    elif (date.month >= 3) & (date.month <= 5):\n",
    "        return(\"Spring\")\n",
    "    else:\n",
    "        return(\"Error\")"
   ]
  },
  {
   "cell_type": "code",
   "execution_count": null,
   "id": "7b8e254d-e8ce-4a3e-a0cd-d398e9d06c26",
   "metadata": {
    "tags": []
   },
   "outputs": [],
   "source": [
    "# Use the function to create a new column called Season\n",
    "\n",
    "merged_df['Season'] = merged_df.index.to_series().apply(season_func)\n",
    "merged_df"
   ]
  },
  {
   "cell_type": "code",
   "execution_count": null,
   "id": "99811055-05c8-4dd2-9e5c-468a5953a146",
   "metadata": {
    "tags": []
   },
   "outputs": [],
   "source": [
    "# Calculate the average temperature anomaly and CO2 concentration for each season.\n",
    "\n",
    "seasonal_avg = merged_df.groupby('Season').agg({\n",
    "    'MonthlyAnomaly': 'mean',\n",
    "    'CO2Concentration': 'mean'\n",
    "})\n",
    "\n",
    "seasonal_avg"
   ]
  },
  {
   "cell_type": "code",
   "execution_count": null,
   "id": "f7b5668d-697c-4388-9799-23d9b13be25e",
   "metadata": {
    "tags": []
   },
   "outputs": [],
   "source": [
    "\n",
    "# Create a box plot using sns.boxplot() showing the dist. of temp anomalies for each season\n",
    "\n",
    "\n",
    "#sns.boxplot(x = seasonal_avg.index, y=seasonal_avg['MonthlyAnomaly'])\n",
    "sns.boxplot(x = merged_df['Season'], y=merged_df['MonthlyAnomaly'])\n"
   ]
  },
  {
   "cell_type": "code",
   "execution_count": null,
   "id": "c30247dc-2796-4de1-9214-b9315998259e",
   "metadata": {},
   "outputs": [],
   "source": []
  }
 ],
 "metadata": {
  "kernelspec": {
   "display_name": "Python 3.10.0",
   "language": "python",
   "name": "python3.10.0"
  },
  "language_info": {
   "codemirror_mode": {
    "name": "ipython",
    "version": 3
   },
   "file_extension": ".py",
   "mimetype": "text/x-python",
   "name": "python",
   "nbconvert_exporter": "python",
   "pygments_lexer": "ipython3",
   "version": "3.10.0"
  }
 },
 "nbformat": 4,
 "nbformat_minor": 5
}
