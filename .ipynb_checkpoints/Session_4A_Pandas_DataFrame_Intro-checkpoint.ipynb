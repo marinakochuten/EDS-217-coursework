{
 "cells": [
  {
   "cell_type": "markdown",
   "id": "ed398a74-5690-4ad2-8dd4-f0e37c8cf0bc",
   "metadata": {},
   "source": [
    "# Day 4: Session A - Introduction to Pandas DataFrames with World Cities Data\n",
    "\n",
    "[Link to session webpage](https://eds-217-essential-python.github.io/course-materials/interactive-sessions/4a_dataframes.html)\n",
    "\n",
    "Date: 09/06/2024"
   ]
  },
  {
   "cell_type": "markdown",
   "id": "0a397a77-7ab5-4085-b5e9-e3f8a11f7d0f",
   "metadata": {},
   "source": [
    "# Setup"
   ]
  },
  {
   "cell_type": "code",
   "execution_count": null,
   "id": "fbde238d-2e2d-4530-a58c-d84278763b46",
   "metadata": {
    "tags": []
   },
   "outputs": [],
   "source": [
    "import pandas as pd\n",
    "import numpy as np"
   ]
  },
  {
   "cell_type": "markdown",
   "id": "cca20573-e3da-4175-81ae-371a5945d1ed",
   "metadata": {},
   "source": [
    "# Basic Data Importing"
   ]
  },
  {
   "cell_type": "code",
   "execution_count": null,
   "id": "c6cacec7-dac8-48dc-b97f-e1c18be88b1a",
   "metadata": {
    "tags": []
   },
   "outputs": [],
   "source": [
    "url = \"https://raw.githubusercontent.com/datasets/world-cities/master/data/world-cities.csv\"\n",
    "cities_df = pd.read_csv(url)"
   ]
  },
  {
   "cell_type": "markdown",
   "id": "add4ec26-c767-40cf-adc8-f5595d2a0fb3",
   "metadata": {},
   "source": [
    "# Basic Data Exploration\n",
    "Figuring out the DataFrame structure, looking at data types, getting a sense of data values, checking out column names\n",
    "### Viewing the data"
   ]
  },
  {
   "cell_type": "code",
   "execution_count": null,
   "id": "c7fca600-18e6-41d9-aa87-1f53903378b1",
   "metadata": {
    "tags": []
   },
   "outputs": [],
   "source": [
    "cities_df.head(10)   # head by default returns the first 5 rows. pass it a number to change."
   ]
  },
  {
   "cell_type": "code",
   "execution_count": null,
   "id": "3a77ee5d-96a1-491e-b5ba-5c318acd4012",
   "metadata": {
    "tags": []
   },
   "outputs": [],
   "source": [
    "cities_df.tail()"
   ]
  },
  {
   "cell_type": "markdown",
   "id": "48d5ccb9-7936-4918-b970-025eb16d3620",
   "metadata": {},
   "source": [
    "### Exploring DataFrames using their Properties\n",
    "\n",
    "Use `shape` to get the size (rows x columns) of a dataframe"
   ]
  },
  {
   "cell_type": "code",
   "execution_count": null,
   "id": "38b7648d-411d-40f7-a418-5d3da58f2202",
   "metadata": {
    "tags": []
   },
   "outputs": [],
   "source": [
    "cities_df.shape   # no parenthesis because `shape` is a variable (attrbute/property) that holds information about the dataframe, not a function (method)"
   ]
  },
  {
   "cell_type": "markdown",
   "id": "44108f89-6f3f-4bfb-9ed0-6b58fa5c294a",
   "metadata": {},
   "source": [
    "Use `columns` to get a list of column names"
   ]
  },
  {
   "cell_type": "code",
   "execution_count": null,
   "id": "89cf3ea6-a206-40d6-9fe5-e38cad575d8a",
   "metadata": {
    "tags": []
   },
   "outputs": [],
   "source": [
    "cities_df.columns"
   ]
  },
  {
   "cell_type": "markdown",
   "id": "682a0e70-d162-40dc-9870-db1c112c5195",
   "metadata": {},
   "source": [
    "Determining the types of data usign the `dtypes` property"
   ]
  },
  {
   "cell_type": "code",
   "execution_count": null,
   "id": "9af9f712-025c-4655-80ba-97763c9159ad",
   "metadata": {
    "tags": []
   },
   "outputs": [],
   "source": [
    "cities_df.dtypes"
   ]
  },
  {
   "cell_type": "markdown",
   "id": "2ee9e410-56d3-429d-b4bb-72dd21d323fc",
   "metadata": {},
   "source": [
    "### Exploring DataFrames using their methods\n",
    "\n",
    "Use the `describe()` method to get a summary of the dataframe"
   ]
  },
  {
   "cell_type": "code",
   "execution_count": null,
   "id": "07549b5a-eb5e-47c7-8fa8-a03e5f9fc012",
   "metadata": {
    "tags": []
   },
   "outputs": [],
   "source": [
    "cities_df.describe()   # get the summary statistics of numeric columns (if any)"
   ]
  },
  {
   "cell_type": "markdown",
   "id": "ef9e1f11-bcf9-421a-abae-7b6889b49152",
   "metadata": {},
   "source": [
    "Use `info()` to get detailed information about column types and content"
   ]
  },
  {
   "cell_type": "code",
   "execution_count": null,
   "id": "66c2f547-2244-413d-a65a-b647fc0c14c3",
   "metadata": {
    "tags": []
   },
   "outputs": [],
   "source": [
    "cities_df.info()"
   ]
  },
  {
   "cell_type": "markdown",
   "id": "f4a484e1-a253-4e34-9462-44a174d26074",
   "metadata": {},
   "source": [
    "### Checking for missing values\n",
    "\n",
    "Use `isnull()` and `sum()` to count missing values"
   ]
  },
  {
   "cell_type": "code",
   "execution_count": null,
   "id": "f26f062f-0093-43e9-ad66-b69e848458db",
   "metadata": {
    "tags": []
   },
   "outputs": [],
   "source": [
    "cities_df.isnull().sum()"
   ]
  },
  {
   "cell_type": "markdown",
   "id": "2e91c1ce-3553-4c4d-8d0f-f5e7d9259646",
   "metadata": {},
   "source": [
    "# Basic Cleaning\n",
    "\n",
    "For removing missing data, `dropna()` is best, use `subset` argument to selsct specific columns"
   ]
  },
  {
   "cell_type": "code",
   "execution_count": null,
   "id": "5b13f12a-4b5d-4516-a067-c45cc0391d21",
   "metadata": {
    "tags": []
   },
   "outputs": [],
   "source": [
    "cities_df = cities_df.dropna(subset = ['subcountry'])    # drop na from column subcountry"
   ]
  },
  {
   "cell_type": "code",
   "execution_count": null,
   "id": "b80e9b3e-001c-4938-8eb6-ac4dfdbaa66f",
   "metadata": {
    "tags": []
   },
   "outputs": [],
   "source": [
    "cities_df.isnull().sum()  # check that it worked"
   ]
  },
  {
   "cell_type": "markdown",
   "id": "f9acda63-fca9-4fd8-b1df-1a5e0641e506",
   "metadata": {},
   "source": [
    "# Basic Data Selection and Filtering\n",
    "### Selecting columns\n",
    "Just add it to the dataframe with brackets"
   ]
  },
  {
   "cell_type": "code",
   "execution_count": null,
   "id": "6266a4ad-fef2-42bd-97bb-9058d0514275",
   "metadata": {
    "tags": []
   },
   "outputs": [],
   "source": [
    "# selecting a single column. this returns a series\n",
    "cities_df['name'].head()   # Using the `head()` methof to keep my notebook clean FOR DEMO"
   ]
  },
  {
   "cell_type": "code",
   "execution_count": null,
   "id": "b7c6a3ed-c932-442d-a851-cf8034671d63",
   "metadata": {
    "tags": []
   },
   "outputs": [],
   "source": [
    "# selecting multiple columns. put the columns we want into a list. this returns a dataframe\n",
    "cities_df[['name', 'country']].head()   # the two [[]] are necessary here. you index in `[]` to a list `[]` of columns that we want"
   ]
  },
  {
   "cell_type": "markdown",
   "id": "9ec1e519-c044-4d10-9be7-00224a119fd5",
   "metadata": {},
   "source": [
    "To make a series from a column, request it like `df['column']`\n",
    "\n",
    "To make a dataframe from a column, request it as a single-item list: `df[['column]]`"
   ]
  },
  {
   "cell_type": "markdown",
   "id": "f547d2b2-a19c-4df6-adf5-00d53088ddb7",
   "metadata": {},
   "source": [
    "### Filtering rows\n",
    "\n",
    "use conditional expressions to filter rows"
   ]
  },
  {
   "cell_type": "code",
   "execution_count": null,
   "id": "b97a4d2a-3d27-4f6c-b587-97e541447340",
   "metadata": {
    "tags": []
   },
   "outputs": [],
   "source": [
    "us_cities = cities_df[ cities_df['country'] == 'United States' ]\n",
    "us_cities.head()"
   ]
  },
  {
   "cell_type": "markdown",
   "id": "111d52fe-8845-42be-8747-895cac0fa842",
   "metadata": {},
   "source": [
    "another way to think about this:\n",
    "\n",
    "```python\n",
    "rows_we_want = cities_df['country'] == 'United States'\n",
    "us_cities = cities_df[rows_we_want]\n",
    "```"
   ]
  },
  {
   "cell_type": "markdown",
   "id": "93727b5e-bc58-4840-b332-6a80b0cf39c7",
   "metadata": {},
   "source": [
    "We can combine logical operators to filter on multiple columns!"
   ]
  },
  {
   "cell_type": "code",
   "execution_count": null,
   "id": "8dda8539-2dcb-4e85-98d6-12114cce2c34",
   "metadata": {
    "tags": []
   },
   "outputs": [],
   "source": [
    "# the declarative and expressive way\n",
    "in_us = cities_df['country'] == 'United States'\n",
    "in_ca = cities_df['subcountry'] == 'California'\n",
    "\n",
    "california_cities = cities_df[ in_us & in_ca ]\n",
    "california_cities.head()"
   ]
  },
  {
   "cell_type": "markdown",
   "id": "5911289b-d43d-4b22-9f41-978814f84b13",
   "metadata": {},
   "source": [
    "Doing this more succinctly:\n",
    "\n",
    "```python\n",
    "california_cities = cities_df[\n",
    "    (cities_df['country'] == 'United States') & \n",
    "    (cities_df['subcountry'] == 'California')         # must wrap each condition in () to avoid confusion!\n",
    "]\n",
    "```"
   ]
  },
  {
   "cell_type": "markdown",
   "id": "ac68f258-21a4-4567-b316-9bc8a1b6d03a",
   "metadata": {},
   "source": [
    "### Combining conditions"
   ]
  },
  {
   "cell_type": "markdown",
   "id": "f5d297f2-c419-45d7-8925-c4d42af444ed",
   "metadata": {},
   "source": [
    "... coming soon ..."
   ]
  },
  {
   "cell_type": "markdown",
   "id": "9dc72f90-425d-439b-b028-e6cc2e2b38ff",
   "metadata": {},
   "source": [
    "# Basic Sorting and Ranking"
   ]
  },
  {
   "cell_type": "markdown",
   "id": "3b725258-e41a-4e39-874e-feaf10a17b1d",
   "metadata": {},
   "source": [
    ".... coming soon ...."
   ]
  },
  {
   "cell_type": "markdown",
   "id": "a2dd28f3-4d93-4e92-9a4a-f900275f6f16",
   "metadata": {},
   "source": [
    "# Basic Transformations"
   ]
  },
  {
   "cell_type": "markdown",
   "id": "74fa0627-a650-4215-8ef2-4f8bbdebdc2e",
   "metadata": {},
   "source": [
    ".... coming soon....."
   ]
  },
  {
   "cell_type": "markdown",
   "id": "84bb64b8-b926-4be3-9719-146cd7be9c45",
   "metadata": {},
   "source": [
    "# Basic Grouping and Aggregation\n",
    "\n",
    "the workhorse method for grouping in pandas is `groupby()`\n",
    "\n",
    "Use aggregation on groupby to summarize the data within each group"
   ]
  },
  {
   "cell_type": "code",
   "execution_count": null,
   "id": "9f97e9c0-afc7-4ee6-835b-1242d79389c2",
   "metadata": {
    "tags": []
   },
   "outputs": [],
   "source": [
    "# Number of cities by country\n",
    "cities_per_country = cities_df.groupby('country')   \n",
    "cities_per_country['name'].count().sort_values(ascending=False).head(10)"
   ]
  },
  {
   "cell_type": "code",
   "execution_count": null,
   "id": "2c2eb57c-347b-4a3f-9d90-63172968d5f7",
   "metadata": {},
   "outputs": [],
   "source": []
  }
 ],
 "metadata": {
  "kernelspec": {
   "display_name": "Python 3.10.0",
   "language": "python",
   "name": "python3.10.0"
  },
  "language_info": {
   "codemirror_mode": {
    "name": "ipython",
    "version": 3
   },
   "file_extension": ".py",
   "mimetype": "text/x-python",
   "name": "python",
   "nbconvert_exporter": "python",
   "pygments_lexer": "ipython3",
   "version": "3.10.0"
  }
 },
 "nbformat": 4,
 "nbformat_minor": 5
}
