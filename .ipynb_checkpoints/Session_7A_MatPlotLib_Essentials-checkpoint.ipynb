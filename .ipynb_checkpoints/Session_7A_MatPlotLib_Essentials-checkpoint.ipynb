{
 "cells": [
  {
   "cell_type": "markdown",
   "id": "4cd602fb-fae1-4a6f-bb43-d692818d668b",
   "metadata": {},
   "source": [
    "# Day 7: Session A - Data Vis - MatPlotLib\n",
    "\n",
    "[Link to session webpage](https://eds-217-essential-python.github.io/course-materials/interactive-sessions/7a_visualizations_1.html)\n",
    "\n",
    "Date: 09/11/2024"
   ]
  },
  {
   "cell_type": "code",
   "execution_count": null,
   "id": "901b54f8-4be6-4595-8444-af10622b1932",
   "metadata": {
    "tags": []
   },
   "outputs": [],
   "source": [
    "# import matplotlib using this code:\n",
    "import numpy as np\n",
    "import pandas as pd\n",
    "import matplotlib.pyplot as plt"
   ]
  },
  {
   "cell_type": "markdown",
   "id": "5b5bd6d9-4ced-48f4-8007-b680cf1cd129",
   "metadata": {},
   "source": [
    "## Anatomy of a `matplotlib` plot\n",
    "\n",
    "### Three main Objects: \n",
    "\n",
    "- Figure: wall of a art gallery. The place that you can put axes\n",
    "- Axes: a place to put data (where in a figure we can plot data)\n",
    "- Plot: a command or method that renders data into some axes\n",
    "\n",
    "Generally, `matplotlib` (and all other libraries) assuse a plot command is going into teh most recently created figure. If there is not a figure already, theses commands will make one, including axes, and then render the results of the plotting command into these objects."
   ]
  },
  {
   "cell_type": "code",
   "execution_count": null,
   "id": "a8e27ee7-b1c5-4b49-9db5-65fb17150158",
   "metadata": {
    "tags": []
   },
   "outputs": [],
   "source": [
    "# Let's make some data for plotting\n",
    "x = np.linspace(-5, 5, 300)\n",
    "# Let's make a sin wave:\n",
    "ysin = np.sin(x)\n",
    "# make a cos wave\n",
    "ycos = np.cos(x)"
   ]
  },
  {
   "cell_type": "code",
   "execution_count": null,
   "id": "e8c1cf92-085f-4f8d-ad44-82939044420d",
   "metadata": {
    "tags": []
   },
   "outputs": [],
   "source": [
    "# plot sin wave\n",
    "plt.plot(x, ysin)\n",
    "# plot cosine wave\n",
    "plt.plot(x, ycos)"
   ]
  },
  {
   "cell_type": "code",
   "execution_count": null,
   "id": "f923c963-e3c7-4ad7-be91-99a8871ab141",
   "metadata": {
    "tags": []
   },
   "outputs": [],
   "source": [
    "# if we create a figure, we can separate plot commands:\n",
    "\n",
    "# Plot sine wave\n",
    "fig1 = plt.figure()\n",
    "plt.plot(x,ysin)\n",
    "\n",
    "# Plot cosine wave\n",
    "fig2 = plt.figure()\n",
    "plt.plot(x,ycos)"
   ]
  },
  {
   "cell_type": "code",
   "execution_count": null,
   "id": "84dca546-37f9-41a8-b174-d3f3602a0e38",
   "metadata": {
    "tags": []
   },
   "outputs": [],
   "source": [
    "# we use plt.scatter() to plot points instead of lines\n",
    "\n",
    "# Generate new x and y with fewer points for legibility\n",
    "# np.linspace(lower, upper, n): \n",
    "#     Creates n points between lower and upper, including both bounds.\n",
    "\n",
    "xscat = np.linspace(-5,5,25)\n",
    "yscat = np.sin(xscat)\n",
    "\n",
    "# Plot sine function as scatter plot\n",
    "plt.scatter(xscat,yscat)"
   ]
  },
  {
   "cell_type": "markdown",
   "id": "3fe22c14-34e9-4fc7-aa24-1a93f9c5e567",
   "metadata": {},
   "source": [
    "### Specifying colors\n",
    "\n",
    "#### Using HTML string names"
   ]
  },
  {
   "cell_type": "code",
   "execution_count": null,
   "id": "09fb008a-497c-4f38-b872-be88c89b762d",
   "metadata": {
    "tags": []
   },
   "outputs": [],
   "source": [
    "# Specifying color with a string:\n",
    "y = ysin\n",
    "plt.plot(x, y, 'green', alpha = 0.3)  # alpha represents transparency"
   ]
  },
  {
   "cell_type": "markdown",
   "id": "113c2e0c-3b14-4af7-89a7-4dced8a9857e",
   "metadata": {},
   "source": [
    "#### Using RGB(A) tuples"
   ]
  },
  {
   "cell_type": "code",
   "execution_count": null,
   "id": "4b32e82e-716a-4be4-a41e-117ed327874b",
   "metadata": {
    "tags": []
   },
   "outputs": [],
   "source": [
    "plt.plot(x, y, color=(0.2,0.7,1.0))\n"
   ]
  },
  {
   "cell_type": "code",
   "execution_count": null,
   "id": "312bea30-c7b7-4b00-97be-a45329952a34",
   "metadata": {
    "tags": []
   },
   "outputs": [],
   "source": [
    "# we can add a 4th value to the tuple to specify transparency (alpha)\n",
    "plt.plot(x, y, color=(0.2,0.7,1.0, 0.5))"
   ]
  },
  {
   "cell_type": "code",
   "execution_count": null,
   "id": "3eedc8fa-2e05-4dd8-bb77-23cb2ee770c6",
   "metadata": {
    "tags": []
   },
   "outputs": [],
   "source": [
    "# Specifying greyscale with a intensity value [0-1]:\n",
    "plt.plot(x, y, color='0.5')"
   ]
  },
  {
   "cell_type": "markdown",
   "id": "e730ca5c-bcb8-41b2-b8dc-7878ea96fce2",
   "metadata": {},
   "source": [
    "#### Hex codes for color"
   ]
  },
  {
   "cell_type": "code",
   "execution_count": null,
   "id": "db3eb6e2-f857-48b3-b208-090e68016e2d",
   "metadata": {
    "tags": []
   },
   "outputs": [],
   "source": [
    "plt.plot(x, y, color='#C6E2FF')"
   ]
  },
  {
   "cell_type": "markdown",
   "id": "2e420443-f5bc-4c66-9d5e-2e7a9d7801d7",
   "metadata": {},
   "source": [
    "#### linestyles"
   ]
  },
  {
   "cell_type": "code",
   "execution_count": null,
   "id": "86d9877e-6c80-49d6-9ad6-f072a213497c",
   "metadata": {
    "tags": []
   },
   "outputs": [],
   "source": [
    "# # use linestyle keyword:\n",
    "plt.plot(x, y, linestyle='dashed')"
   ]
  },
  {
   "cell_type": "code",
   "execution_count": null,
   "id": "b33bed58-ee19-4036-9c7a-1c0666aaaa2a",
   "metadata": {
    "tags": []
   },
   "outputs": [],
   "source": [
    "# use linestyle short code:\n",
    "plt.plot(x, y, linestyle='--')"
   ]
  },
  {
   "cell_type": "code",
   "execution_count": null,
   "id": "b598603e-3b9f-4add-bfda-6779b7b040bf",
   "metadata": {
    "tags": []
   },
   "outputs": [],
   "source": [
    "# Initialize empty figure\n",
    "fig1 = plt.figure()\n",
    "# Plot sine wave with different colors + linestyles\n",
    "plt.plot(x, np.sin(x - 0), color='darkblue', linestyle='-')\n",
    "plt.plot(x, np.sin(x - 1), color='m', linestyle='dashed')\n",
    "plt.plot(x, np.sin(x - 2), color=(0.0,0.8,0.81), linestyle=':') \n",
    "plt.plot(x, np.sin(x - 3), color='0.65', linestyle='solid')\n",
    "plt.plot(x, np.sin(x - 4), color='#B8D62E', linestyle='-.')"
   ]
  },
  {
   "cell_type": "markdown",
   "id": "0c0246be-8772-42de-ad62-e0f08c55ecbc",
   "metadata": {},
   "source": [
    "#### Marker styles"
   ]
  },
  {
   "cell_type": "code",
   "execution_count": null,
   "id": "ac59dd66-2efb-4bf1-b757-7d9e37e824ca",
   "metadata": {
    "tags": []
   },
   "outputs": [],
   "source": [
    "plt.scatter(x, y, marker='+')"
   ]
  },
  {
   "cell_type": "code",
   "execution_count": null,
   "id": "8997c19e-9bad-4d39-9ec3-545954d723e2",
   "metadata": {
    "tags": []
   },
   "outputs": [],
   "source": [
    "# Initialize empty figure\n",
    "fig1 = plt.figure()\n",
    "# Plot sine wave as scatter plot with different colors + markers\n",
    "plt.scatter(xscat, yscat-0, color='darkblue', marker='o')\n",
    "plt.scatter(xscat, yscat-1, color='m', marker='.')\n",
    "plt.scatter(xscat, yscat-2, color=(0.0,0.8,0.81), marker='+')\n",
    "plt.scatter(xscat, yscat-3, color='0.65', marker='*')\n",
    "plt.scatter(xscat, yscat-4, color='#B8D62E', marker='s')"
   ]
  },
  {
   "cell_type": "code",
   "execution_count": null,
   "id": "7e6cd5d2-9da1-45d2-968e-98a32216eedc",
   "metadata": {
    "tags": []
   },
   "outputs": [],
   "source": [
    "# Initialize empty figure\n",
    "fig1 = plt.figure()\n",
    "# Plot sine wave with different colors + markers\n",
    "plt.plot(xscat, np.sin(xscat - 0), color='darkblue', marker='o')\n",
    "plt.plot(xscat, np.sin(xscat - 1), color='m', marker='.')\n",
    "plt.plot(xscat, np.sin(xscat - 2), color=(0.0,0.8,0.81), marker='+')\n",
    "plt.plot(xscat, np.sin(xscat - 3), color='0.65', marker='*')\n",
    "plt.plot(xscat, np.sin(xscat - 4), color='#B8D62E', marker='s')"
   ]
  },
  {
   "cell_type": "code",
   "execution_count": null,
   "id": "39cb82e6-7058-4fac-a728-ac3ed9eddc40",
   "metadata": {
    "tags": []
   },
   "outputs": [],
   "source": [
    "# ways to combine commands for styling\n",
    "\n",
    "# Initialize empty figure\n",
    "fig1 = plt.figure()\n",
    "# Plot sine wave with different colors + markers\n",
    "plt.plot(xscat, yscat-0, 'b-o')    # Solid blue line with circle markers\n",
    "plt.plot(xscat, yscat-1, 'm--*')   # Dashed magenta line with star markers\n",
    "plt.plot(xscat, yscat-2, 'c+')     # Cyan plus markers\n",
    "plt.plot(xscat, yscat-3, 'k')      # Solid black line\n",
    "plt.plot(xscat, yscat-4, 'y-s')    # Solid yellow line with square markers\n",
    "\n",
    "\n",
    "# with this method, you are very limited. we will probably not use this style much, better to be more explicit"
   ]
  },
  {
   "cell_type": "markdown",
   "id": "511805c3-49c0-4e18-9d3a-8db238b6d82b",
   "metadata": {},
   "source": [
    "## Axes Properties\n",
    "#### title, limits, labels, ticks, legends...\n",
    "\n",
    "generally we can use plt. methods to change axes properties.\n",
    "most of these methods are \"self explanatory\"\n",
    "\n",
    "control the range of values of the axes:\n",
    "plt.xlim()\n",
    "plt.ylim()"
   ]
  },
  {
   "cell_type": "code",
   "execution_count": null,
   "id": "0cde5df1-1bf9-401a-88c1-2f499d3d83b7",
   "metadata": {
    "tags": []
   },
   "outputs": [],
   "source": [
    "# Initialize empty figure\n",
    "fig1 = plt.figure()\n",
    "# Plot sine wave \n",
    "plt.plot(x, ysin, color='darkblue')\n",
    "\n",
    "# Set axis limits\n",
    "plt.xlim(-5,5)\n",
    "plt.ylim(-2,2)"
   ]
  },
  {
   "cell_type": "code",
   "execution_count": null,
   "id": "380e083f-496c-47bb-905e-b4b367fb1f2d",
   "metadata": {
    "tags": []
   },
   "outputs": [],
   "source": [
    "# Set x-axis ticks at 0, 0.25, 0.5, 0.75, 1.0 with all labeled\n",
    "plt.xticks([0,0.25,0.5,0.75,1.0])\n",
    "# Set y-axis ticks from 0 to 100 with ticks on 10s and labels on 20s\n",
    "plt.yticks(np.arange(0,101,10),['0','','20','','40','','60','','80','','100'])"
   ]
  },
  {
   "cell_type": "code",
   "execution_count": null,
   "id": "1a8d5c27-e1fc-42aa-b8b4-99bd800f3353",
   "metadata": {
    "tags": []
   },
   "outputs": [],
   "source": [
    "# Initialize empty figure\n",
    "fig1 = plt.figure()\n",
    "# Plot sine wave \n",
    "plt.plot(x, ysin, color='darkblue')\n",
    "\n",
    "# Set x-axis limits\n",
    "plt.xlim(-5,5)\n",
    "\n",
    "# Set axis ticks\n",
    "# first argument is a list of where to put ticks\n",
    "# second argument is a list of what to put there\n",
    "plt.xticks([-4,-3,-2,-1,0,1,2,3,4],['-4','','-2','','0','','2','','4'])\n",
    "plt.yticks([-1,-0.5,0,0.5,1])"
   ]
  },
  {
   "cell_type": "code",
   "execution_count": null,
   "id": "bf6fa4e7-889d-4d50-a08c-dff6fd05245d",
   "metadata": {
    "tags": []
   },
   "outputs": [],
   "source": [
    "# always need to label our axes\n",
    "# Initialize empty figure\n",
    "fig1 = plt.figure()\n",
    "# Plot sine wave \n",
    "plt.plot(x, ysin, color='darkblue')\n",
    "\n",
    "# Set x-axis limits\n",
    "plt.xlim(-5,5)\n",
    "\n",
    "# Set axis ticks\n",
    "plt.xticks([-4,-3,-2,-1,0,1,2,3,4],['-4','','-2','','0','','2','','4'])\n",
    "plt.yticks([-1,-0.5,0,0.5,1])\n",
    "\n",
    "# Set axis labels\n",
    "plt.xlabel('x-axis')\n",
    "plt.ylabel('y-axis')"
   ]
  },
  {
   "cell_type": "code",
   "execution_count": null,
   "id": "0a2d065b-da59-4e1f-99f1-9738db571f6f",
   "metadata": {
    "tags": []
   },
   "outputs": [],
   "source": [
    "# Initialize empty figure\n",
    "fig1 = plt.figure()\n",
    "# Plot sine wave \n",
    "plt.plot(x, ysin, color='darkblue')\n",
    "\n",
    "# Set x-axis limits\n",
    "plt.xlim(-5,5)\n",
    "\n",
    "# Set axis ticks\n",
    "plt.xticks([-4,-3,-2,-1,0,1,2,3,4],['-4','','-2','','0','','2','','4'])\n",
    "plt.yticks([-1,-0.5,0,0.5,1])\n",
    "\n",
    "# Set axis labels\n",
    "plt.xlabel(r'$x$')\n",
    "plt.ylabel(r'$\\sin{(x)}$')"
   ]
  },
  {
   "cell_type": "code",
   "execution_count": null,
   "id": "d271a719-67ac-4428-84b5-ba3b48806123",
   "metadata": {
    "tags": []
   },
   "outputs": [],
   "source": [
    "# Initialize empty figure\n",
    "fig1 = plt.figure()\n",
    "# Plot sine wave \n",
    "plt.plot(x, ysin, color='darkblue')\n",
    "plt.plot(x, ycos, color='#B8D62E')\n",
    "\n",
    "# Set x-axis limits\n",
    "plt.xlim(-5,5)\n",
    "\n",
    "# Set axis ticks\n",
    "plt.xticks([-4,-3,-2,-1,0,1,2,3,4],['-4','','-2','','0','','2','','4'])\n",
    "plt.yticks([-1,-0.5,0,0.5,1])\n",
    "\n",
    "# Set axis labels\n",
    "plt.xlabel(r'$x$')\n",
    "plt.ylabel(r'$y$')\n",
    "\n",
    "# Set title\n",
    "plt.title('Sinusoidal functions')"
   ]
  },
  {
   "cell_type": "code",
   "execution_count": null,
   "id": "2b680d0c-b1a6-42a6-881d-9052b59b50e2",
   "metadata": {
    "tags": []
   },
   "outputs": [],
   "source": [
    "# Initialize empty figure\n",
    "fig1 = plt.figure()\n",
    "# Plot sine wave \n",
    "plt.plot(x, ysin, color='darkblue')\n",
    "plt.plot(x, ycos, color='#B8D62E')\n",
    "\n",
    "# Set x-axis limits\n",
    "plt.xlim(-5,5)\n",
    "\n",
    "# Set axis ticks\n",
    "plt.xticks([-4,-3,-2,-1,0,1,2,3,4],['-4','','-2','','0','','2','','4'])\n",
    "plt.yticks([-1,-0.5,0,0.5,1])\n",
    "\n",
    "# Set axis labels\n",
    "plt.xlabel(r'$x$')\n",
    "plt.ylabel(r'$y$')\n",
    "\n",
    "# Set title\n",
    "plt.title('Sinusoidal functions')\n",
    "\n",
    "# Legend\n",
    "plt.legend(labels=['sin(x)','cos(x)'])"
   ]
  },
  {
   "cell_type": "markdown",
   "id": "d5c06ef1-ca28-458e-94c0-840a422b159d",
   "metadata": {},
   "source": [
    "## Adding subplots using the subplot method:"
   ]
  },
  {
   "cell_type": "code",
   "execution_count": null,
   "id": "7c2a6dda-d097-4826-9d19-25375441eea0",
   "metadata": {
    "tags": []
   },
   "outputs": [],
   "source": [
    "# Initialize empty figure\n",
    "fig = plt.figure()\n",
    "# Add four axes\n",
    "ax1 = fig.add_subplot(2,2,1)\n",
    "ax2 = fig.add_subplot(2,2,2)\n",
    "ax3 = fig.add_subplot(2,2,3)\n",
    "ax4 = fig.add_subplot(2,2,4)"
   ]
  },
  {
   "cell_type": "code",
   "execution_count": null,
   "id": "2259f7d9-2997-4fe8-ae90-ceeba406bc93",
   "metadata": {
    "tags": []
   },
   "outputs": [],
   "source": [
    "# Initialize empty figure\n",
    "fig = plt.figure()\n",
    "# Add four axes\n",
    "ax1 = fig.add_subplot(2,2,1)\n",
    "ax2 = fig.add_subplot(2,2,2)\n",
    "ax3 = fig.add_subplot(2,2,3)\n",
    "ax4 = fig.add_subplot(2,2,4)\n",
    "\n",
    "# Plot data\n",
    "# Plot sine wave with different colors on different axes\n",
    "ax1.plot(x, np.sin(x - 0), color='darkblue')\n",
    "ax2.plot(x, np.sin(x - 1), color='m')\n",
    "ax3.plot(x, np.sin(x - 2), color=(0.0,0.8,0.81))\n",
    "ax4.plot(x, np.sin(x - 4), color='#B8D62E')"
   ]
  },
  {
   "cell_type": "code",
   "execution_count": null,
   "id": "e77259bb-2d19-4c5a-8826-fb4e6186ec51",
   "metadata": {
    "tags": []
   },
   "outputs": [],
   "source": [
    "# Initialize empty figure\n",
    "fig = plt.figure()\n",
    "# Add four axes\n",
    "ax1 = fig.add_subplot(2,2,1)\n",
    "ax2 = fig.add_subplot(2,2,2)\n",
    "ax3 = fig.add_subplot(2,2,3)\n",
    "ax4 = fig.add_subplot(2,2,4)\n",
    "\n",
    "# Plot data\n",
    "# Plot sine wave with different colors on different axes\n",
    "ax1.plot(x, np.sin(x - 0), color='darkblue')\n",
    "ax2.plot(x, np.sin(x - 1), color='m')\n",
    "ax3.plot(x, np.sin(x - 2), color=(0.0,0.8,0.81))\n",
    "ax4.plot(x, np.sin(x - 4), color='#B8D62E')\n",
    "\n",
    "# Set axes limits, labels, + ticks\n",
    "for i,ax in enumerate([ax1,ax2,ax3,ax4]):\n",
    "    # i is the list index, but subplots count from 1.\n",
    "    # so make a new variable to keep track of subplot number:\n",
    "    subplot_number =  i + 1 \n",
    "    # Set x limits \n",
    "    ax.set_xlim(-5,5)\n",
    "    # Set title\n",
    "    ax.set_title(f'$\\sin{{(x - {i})}}$')\n",
    "    # Only label x ticks and x-axis on bottom row\n",
    "    if subplot_number < 3:\n",
    "        ax.set_xticklabels([])\n",
    "    else:\n",
    "        ax.set_xlabel('x')\n",
    "    # Only label y ticks and y-axis on left column\n",
    "    if subplot_number == 1 or subplot_number == 3:\n",
    "        ax.set_ylabel('y')\n",
    "    else:\n",
    "        ax.set_yticklabels([])\n",
    "\n",
    "plt.tight_layout()"
   ]
  },
  {
   "cell_type": "code",
   "execution_count": null,
   "id": "0ba9ff1f-466e-49ae-9fab-6c567acf8a6d",
   "metadata": {},
   "outputs": [],
   "source": []
  }
 ],
 "metadata": {
  "kernelspec": {
   "display_name": "Python 3.10.0",
   "language": "python",
   "name": "python3.10.0"
  },
  "language_info": {
   "codemirror_mode": {
    "name": "ipython",
    "version": 3
   },
   "file_extension": ".py",
   "mimetype": "text/x-python",
   "name": "python",
   "nbconvert_exporter": "python",
   "pygments_lexer": "ipython3",
   "version": "3.10.0"
  }
 },
 "nbformat": 4,
 "nbformat_minor": 5
}
