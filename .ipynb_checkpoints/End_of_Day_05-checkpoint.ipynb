{
 "cells": [
  {
   "cell_type": "markdown",
   "id": "7ed3d831-221d-4c74-9fb0-6c00163204f2",
   "metadata": {
    "tags": []
   },
   "source": [
    "# [Exploring the Banana Index: Environmental Impact of Food Production](https://eds-217-essential-python.github.io/course-materials/eod-practice/eod-day5.html)\n",
    "\n",
    "In this activity, you’ll explore the “Banana Index” dataset, which compares the environmental impact of various food products to that of a banana. These data were developed by the Economist magazine in 2023 and they posted their data to github for us to use. This exercise will help you practice working with pandas DataFrames, data manipulation, and visualization skills while learning about the environmental impacts of food production."
   ]
  },
  {
   "cell_type": "markdown",
   "id": "024d7763-1848-4001-8ec1-2fff0fb4d489",
   "metadata": {},
   "source": [
    "## Setup"
   ]
  },
  {
   "cell_type": "code",
   "execution_count": null,
   "id": "b7a76b3f-0820-421e-82bd-c13d9a854452",
   "metadata": {
    "tags": []
   },
   "outputs": [],
   "source": [
    "import pandas as pd\n",
    "import matplotlib.pyplot as plt\n",
    "import seaborn as sns\n",
    "\n",
    "# Load the data\n",
    "url = \"https://github.com/TheEconomist/banana-index-data/releases/download/1.0/bananaindex.csv\"\n",
    "df = pd.read_csv(url)"
   ]
  },
  {
   "cell_type": "code",
   "execution_count": null,
   "id": "eaa37f59-fac3-4c58-8962-8e2fdafb9e8a",
   "metadata": {
    "tags": []
   },
   "outputs": [],
   "source": [
    "# Display the first few rows:\n",
    "print(df.head())"
   ]
  },
  {
   "cell_type": "code",
   "execution_count": null,
   "id": "e4646347-2d2c-4afd-8dcc-63611c362314",
   "metadata": {
    "tags": []
   },
   "outputs": [],
   "source": [
    "# Display the dataframe info:\n",
    "print(df.info())"
   ]
  },
  {
   "cell_type": "markdown",
   "id": "b3db028f-3afa-4619-a2af-049d7c94fd21",
   "metadata": {
    "tags": []
   },
   "source": [
    "## 1. Data Preparation\n",
    "\n",
    "a. Set the index of the DataFrame to be the ‘entity’ column."
   ]
  },
  {
   "cell_type": "code",
   "execution_count": null,
   "id": "f6364a86-0028-4650-9e1a-325fc0ef136c",
   "metadata": {
    "tags": []
   },
   "outputs": [],
   "source": [
    "df.set_index('entity', inplace=True)"
   ]
  },
  {
   "cell_type": "markdown",
   "id": "b7ee568c-7d49-4407-8a78-c7f3fec86bc7",
   "metadata": {},
   "source": [
    "b .Remove the ‘year’, ‘Banana values’, ‘type’, ‘Unnamed: 16’, and ‘Chart?’ columns."
   ]
  },
  {
   "cell_type": "code",
   "execution_count": null,
   "id": "4fee17f9-7b92-4e96-a476-8421e1dffac2",
   "metadata": {
    "tags": []
   },
   "outputs": [],
   "source": [
    "df.drop(columns=['year', 'Banana values', 'type', 'Unnamed: 16', 'Chart?'], inplace = True)"
   ]
  },
  {
   "cell_type": "markdown",
   "id": "529cacd1-2a47-4654-921d-33ebbea396fe",
   "metadata": {},
   "source": [
    "c. Display the first few rows of the modified DataFrame."
   ]
  },
  {
   "cell_type": "code",
   "execution_count": null,
   "id": "820a687b-07d5-4037-97a1-6d48fbcfdc17",
   "metadata": {
    "tags": []
   },
   "outputs": [],
   "source": [
    "df.head()"
   ]
  },
  {
   "cell_type": "markdown",
   "id": "dced6ad3-76ff-431c-a933-7cb65486e204",
   "metadata": {},
   "source": [
    "## Exploring Banana Scores\n",
    "\n",
    "a. For each of the pre-computed banana score columns (kg, calories, and protein), show the 10 highest-scoring food products."
   ]
  },
  {
   "cell_type": "code",
   "execution_count": null,
   "id": "5de6a09c-2faa-460e-bfa5-a26417d6758d",
   "metadata": {
    "tags": []
   },
   "outputs": [],
   "source": [
    "df[['Bananas index (kg)', 'Bananas index (1000 kcalories)', 'Bananas index (100g protein)']].sort_values(by = 'Bananas index (kg)', ascending = False).head(10)"
   ]
  },
  {
   "cell_type": "markdown",
   "id": "61711639-337c-4a15-b3f2-09f6877524e4",
   "metadata": {},
   "source": [
    "b. Edit the function below so that is returns the top 10 scores for a given column:\n",
    "\n",
    "```python\n",
    "def return_top_ten(df, column):\n",
    "    \"\"\" Return the top 10 values of a column \"\"\"\n",
    "    pass\n",
    "```"
   ]
  },
  {
   "cell_type": "code",
   "execution_count": null,
   "id": "bc195fdb-4845-4dbb-b1ad-4d3b2cb91448",
   "metadata": {
    "tags": []
   },
   "outputs": [],
   "source": [
    "def return_top_ten(df, column):\n",
    "    return df[[column]].sort_values(by = column, ascending = False).head(10)"
   ]
  },
  {
   "cell_type": "markdown",
   "id": "577c1992-d382-46a7-8f6b-cb3967f4b17c",
   "metadata": {},
   "source": [
    "Use your function to display the results for each of the three Banana index columns."
   ]
  },
  {
   "cell_type": "code",
   "execution_count": null,
   "id": "b392979f-0c24-444e-ae8d-734589f9ada8",
   "metadata": {
    "tags": []
   },
   "outputs": [],
   "source": [
    "return_top_ten(df, 'Bananas index (kg)')\n",
    "return_top_ten(df, 'Bananas index (1000 kcalories)')\n",
    "return_top_ten(df, 'Bananas index (100g protein)')"
   ]
  },
  {
   "cell_type": "markdown",
   "id": "1d374d5a-a7de-4ac9-b3c2-ed13b8fe041b",
   "metadata": {
    "tags": []
   },
   "source": [
    "## 3. Common High-Scoring Foods\n",
    "\n",
    "Identify which foods, if any, appear in the top 10 for all three banana score lists (kg, calories, and protein)."
   ]
  },
  {
   "cell_type": "code",
   "execution_count": null,
   "id": "dcde716b-b334-4400-bab4-ded5a05f0547",
   "metadata": {
    "tags": []
   },
   "outputs": [],
   "source": [
    "top_10_kg = return_top_ten(df, 'Bananas index (kg)')\n",
    "top_10_cal = return_top_ten(df, 'Bananas index (1000 kcalories)')\n",
    "top_10_protein = return_top_ten(df, 'Bananas index (100g protein)')"
   ]
  },
  {
   "cell_type": "markdown",
   "id": "8f8f38c7-972a-45d4-a23c-0e141d5a499f",
   "metadata": {},
   "source": [
    "this was one way to do it. another would be:\n",
    "```python\n",
    "banana_df = df.filter(like='Bananas')\n",
    "print(banana_df.head())\n",
    "\n",
    "list_of_top_10 = []\n",
    "for column in banana_df.columns:\n",
    "    top_10 = return_top_ten(df, column)\n",
    "    list_of_top_10.append(set(top_10.index))\n",
    "\n",
    "print(list_of_top_10)\n",
    "```\n",
    "\n",
    "and then pass `set.intersection` the list_of_top_10"
   ]
  },
  {
   "cell_type": "code",
   "execution_count": null,
   "id": "c9d3c59d-bef0-4cd9-a4a3-236bc2b95a08",
   "metadata": {
    "tags": []
   },
   "outputs": [],
   "source": [
    "set(top_10_kg.index)"
   ]
  },
  {
   "cell_type": "code",
   "execution_count": null,
   "id": "f1f40247-79d9-4f1f-b750-ec467910e859",
   "metadata": {
    "tags": []
   },
   "outputs": [],
   "source": [
    "in_all_three = set.intersection(set(top_10_kg.index), set(top_10_cal.index), set(top_10_protein.index))\n",
    "print(in_all_three)"
   ]
  },
  {
   "cell_type": "markdown",
   "id": "63b5310a-8d32-46b5-bb70-cb28fc4883d0",
   "metadata": {},
   "source": [
    "## 4. Land Use Analysis\n",
    "\n",
    "a. Create a new column named ‘Bananas index (land use 1000 kcal)’, calculating that food item’s use of land for every 1,000 kcal in comparison to a banana."
   ]
  },
  {
   "cell_type": "code",
   "execution_count": null,
   "id": "f09fcc49-c6ff-4385-a336-2aaa5221f8ca",
   "metadata": {
    "tags": []
   },
   "outputs": [],
   "source": [
    "banana_row = df.filter(like = 'Bananas', axis = 0)\n",
    "print(banana_row)\n",
    "\n",
    "# banana land use 1000 kcal = 2.717877. to find the comparison, divide entity land use by banana land use (?)\n",
    "\n",
    "df['Bananas index (land use 1000 kcal)'] = (df['land_use_1000kcal'] / 2.717877)\n",
    "print(df[['Bananas index (land use 1000 kcal)', 'land_use_1000kcal']])"
   ]
  },
  {
   "cell_type": "markdown",
   "id": "8c33a643-5b53-4365-a13c-9ea59cdb9b61",
   "metadata": {},
   "source": [
    "b. Display the 10 foods with the highest land use score."
   ]
  },
  {
   "cell_type": "code",
   "execution_count": null,
   "id": "187e34db-2d98-4ad3-984b-321313ce31fd",
   "metadata": {
    "tags": []
   },
   "outputs": [],
   "source": [
    "top_10_land = return_top_ten(df, 'Bananas index (land use 1000 kcal)')"
   ]
  },
  {
   "cell_type": "markdown",
   "id": "3a17349b-c070-4aa0-a567-d360397df323",
   "metadata": {},
   "source": [
    "c. Compare this list with the previous top 10 lists. Are there any common foods?"
   ]
  },
  {
   "cell_type": "code",
   "execution_count": null,
   "id": "ab9e7825-9eec-40f6-b28f-1f3dcdade50c",
   "metadata": {
    "tags": []
   },
   "outputs": [],
   "source": [
    "in_all_four = set.intersection(set(top_10_kg.index), set(top_10_cal.index), set(top_10_protein.index), set(top_10_land.index))\n",
    "print(in_all_four)"
   ]
  },
  {
   "cell_type": "markdown",
   "id": "d2851072-52ba-46fe-a421-e0fed6144189",
   "metadata": {},
   "source": [
    "## 5. Cheese Analysis\n",
    "Identify the type of cheese with the highest banana score per 1,000 kcal. How does it compare to other cheeses in the dataset?"
   ]
  },
  {
   "cell_type": "code",
   "execution_count": null,
   "id": "d51cd43e-121b-446d-a6d9-7b7bd02ea482",
   "metadata": {
    "tags": []
   },
   "outputs": [],
   "source": [
    "cheeses = df.filter(like = 'cheese', axis=0)\n",
    "\n",
    "\n",
    "return_top_ten(cheeses, 'Bananas index (land use 1000 kcal)')\n",
    "# cottage cheese goes crazy"
   ]
  },
  {
   "cell_type": "code",
   "execution_count": null,
   "id": "878faeb5-59d7-4740-898f-6404074872ad",
   "metadata": {},
   "outputs": [],
   "source": []
  }
 ],
 "metadata": {
  "kernelspec": {
   "display_name": "Python 3.10.0",
   "language": "python",
   "name": "python3.10.0"
  },
  "language_info": {
   "codemirror_mode": {
    "name": "ipython",
    "version": 3
   },
   "file_extension": ".py",
   "mimetype": "text/x-python",
   "name": "python",
   "nbconvert_exporter": "python",
   "pygments_lexer": "ipython3",
   "version": "3.10.0"
  }
 },
 "nbformat": 4,
 "nbformat_minor": 5
}
