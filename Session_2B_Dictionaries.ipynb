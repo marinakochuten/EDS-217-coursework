{
 "cells": [
  {
   "cell_type": "markdown",
   "id": "27e7bafc-56d6-4d2b-8548-5b5398064bac",
   "metadata": {},
   "source": [
    "# Day 2: Session B - Dictionaries\n",
    "\n",
    "[Link to session webpage](https://eds-217-essential-python.github.io/course-materials/interactive-sessions/2b_dictionaries.html)\n",
    "\n",
    "Date: 09/04/2024"
   ]
  },
  {
   "cell_type": "code",
   "execution_count": null,
   "id": "2fc9f4f4-f554-44f7-92d4-95f47ebe24c3",
   "metadata": {
    "tags": []
   },
   "outputs": [],
   "source": [
    "# Define a dictionary with species data containing latin names and corresponding common names.\n",
    "species_dict = {\n",
    "    \"P ochraceus\": \"Ochre sea star\",\n",
    "    \"M californianus\": \"California mussel\",\n",
    "    \"H rufescens\": \"Red abalone\"\n",
    "}"
   ]
  },
  {
   "cell_type": "code",
   "execution_count": null,
   "id": "fbae5777-c906-4e82-8b4a-a8037aa0d4d8",
   "metadata": {
    "tags": []
   },
   "outputs": [],
   "source": [
    "species_dict[\"P ochraceus\"]"
   ]
  },
  {
   "cell_type": "code",
   "execution_count": null,
   "id": "8667bd87-4c9d-49ee-bdc8-6957a3db2498",
   "metadata": {
    "tags": []
   },
   "outputs": [],
   "source": [
    "# Adding a new entry for Leather star\n",
    "species_dict[\"D imbricata\"] = \"Leather star\"\n",
    "print(species_dict)"
   ]
  },
  {
   "cell_type": "markdown",
   "id": "40e1dd8a-c268-44ee-9ee6-fce45d6a15b1",
   "metadata": {},
   "source": [
    "keys in dictionaries are unique. you cannot have two instances with the same key. "
   ]
  },
  {
   "cell_type": "code",
   "execution_count": null,
   "id": "b3108bd7-8fc5-4e57-a034-1e7e17d71a94",
   "metadata": {
    "tags": []
   },
   "outputs": [],
   "source": [
    "# Make a list of all the keys in a dictionary:\n",
    "list(species_dict.keys())"
   ]
  },
  {
   "cell_type": "code",
   "execution_count": null,
   "id": "f2c8cfcc-de4a-4b5d-9717-57281efd6c7d",
   "metadata": {
    "tags": []
   },
   "outputs": [],
   "source": [
    "# Make a list of all the values\n",
    "list(species_dict.values())"
   ]
  },
  {
   "cell_type": "code",
   "execution_count": null,
   "id": "0f1d50f0-f869-4d81-bf32-9df70670f9d9",
   "metadata": {
    "tags": []
   },
   "outputs": [],
   "source": [
    "# Make a list of tuples of key, value pairs:\n",
    "species_dict.items()"
   ]
  },
  {
   "cell_type": "markdown",
   "id": "f9feaa43-e500-411e-9c27-683adbb403af",
   "metadata": {},
   "source": [
    "## Looping through a dictionary:\n",
    "\n",
    "Use a `for` loop to loop through a dictionary\n",
    "\n",
    "```python\n",
    "for item in collection:\n",
    "    print(item)\n",
    "```"
   ]
  },
  {
   "cell_type": "code",
   "execution_count": null,
   "id": "6221e524-c689-4fb7-8f8d-07dab54a5e73",
   "metadata": {
    "tags": []
   },
   "outputs": [],
   "source": [
    "# Print each value in a dictionary\n",
    "for value in list(species_dict.values()):\n",
    "    print(value)"
   ]
  },
  {
   "cell_type": "code",
   "execution_count": null,
   "id": "ef8faf28-bff7-42ce-b3e6-95c6e4737bd3",
   "metadata": {
    "tags": []
   },
   "outputs": [],
   "source": [
    "# Print each key in a dictionary\n",
    "for key in list(species_dict.keys()):\n",
    "    print(key)"
   ]
  },
  {
   "cell_type": "code",
   "execution_count": null,
   "id": "80e49162-8467-469a-8345-a51044fc7e76",
   "metadata": {
    "tags": []
   },
   "outputs": [],
   "source": [
    "for key, value in list(species_dict.items()):\n",
    "    print(f\"The common name for {key} is {value}\")\n",
    "    #print(item)"
   ]
  },
  {
   "cell_type": "code",
   "execution_count": null,
   "id": "3f233d2f-5b83-466f-9d11-2c98e96d6d6d",
   "metadata": {},
   "outputs": [],
   "source": [
    "# Accessing a key that doesn't exist raises a `KeyError` exception.\n",
    "species_dict[\"E dofleini\"]"
   ]
  },
  {
   "cell_type": "code",
   "execution_count": null,
   "id": "c18529a1-1e12-4c0c-81fc-67819956a188",
   "metadata": {
    "tags": []
   },
   "outputs": [],
   "source": [
    "# You can use the .get() method to allow lookups to fail silently\n",
    "result = species_dict.get(\"P ochraceus\")\n",
    "print(result)"
   ]
  },
  {
   "cell_type": "code",
   "execution_count": null,
   "id": "4bc57ea1-fd96-47a2-8f44-e6427d3a4673",
   "metadata": {
    "tags": []
   },
   "outputs": [],
   "source": [
    "# You can also set a default response for missing keys:\n",
    "result = species_dict.get(\"P ochraceus\", \"Species not found\")\n",
    "print(result)\n",
    "\n",
    "result = species_dict.get(\"E dofleini\", \"Species not found\")\n",
    "print(result)"
   ]
  },
  {
   "cell_type": "code",
   "execution_count": null,
   "id": "f8df1985-2bd8-4d8d-95e2-5ccd540e87b3",
   "metadata": {},
   "outputs": [],
   "source": []
  }
 ],
 "metadata": {
  "kernelspec": {
   "display_name": "Python 3.10.0",
   "language": "python",
   "name": "python3.10.0"
  },
  "language_info": {
   "codemirror_mode": {
    "name": "ipython",
    "version": 3
   },
   "file_extension": ".py",
   "mimetype": "text/x-python",
   "name": "python",
   "nbconvert_exporter": "python",
   "pygments_lexer": "ipython3",
   "version": "3.10.0"
  }
 },
 "nbformat": 4,
 "nbformat_minor": 5
}
