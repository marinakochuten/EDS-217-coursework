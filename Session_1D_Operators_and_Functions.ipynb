{
 "cells": [
  {
   "cell_type": "markdown",
   "id": "69738766-7045-4895-9134-6448654f49ee",
   "metadata": {},
   "source": [
    "# Day 1: Session D - Operators & Functions\n",
    "\n",
    "[Session Webpage](https://eds-217-essential-python.github.io/course-materials/interactive-sessions/1d_operators_functions.html)\n",
    "\n",
    "Date: 09/03/2024"
   ]
  },
  {
   "cell_type": "code",
   "execution_count": null,
   "id": "fa35a2e4-b55f-4a5b-8511-ba413cffec07",
   "metadata": {
    "tags": []
   },
   "outputs": [],
   "source": [
    "# Define variables x and y as integers.\n",
    "x = 1\n",
    "y = 42"
   ]
  },
  {
   "cell_type": "code",
   "execution_count": null,
   "id": "ec385b8d-45ce-40d5-acf8-6592835ea3c1",
   "metadata": {
    "tags": []
   },
   "outputs": [],
   "source": [
    "a = 1.0\n",
    "b = 42.0\n",
    "c = 23.782043"
   ]
  },
  {
   "cell_type": "markdown",
   "id": "73509b6d-0999-4800-a646-1410d6ecae98",
   "metadata": {
    "tags": []
   },
   "source": [
    "### Compund Assignment Operators"
   ]
  },
  {
   "cell_type": "code",
   "execution_count": null,
   "id": "f3ca241c-b2e6-4c00-876f-79178e0844cd",
   "metadata": {
    "tags": []
   },
   "outputs": [],
   "source": [
    "count = 10\n",
    "\n",
    "count -= 1\n",
    "print(count)\n",
    "\n",
    "count += 2\n",
    "print(count)\n",
    "\n",
    "count *= 3\n",
    "print(count)"
   ]
  },
  {
   "cell_type": "code",
   "execution_count": null,
   "id": "ed2819c6-a5f6-4656-a99d-aea40e086010",
   "metadata": {
    "tags": []
   },
   "outputs": [],
   "source": [
    "# Initialize the score\n",
    "score = 100\n",
    "\n",
    "# TODO: Use compound assignment to decrease the score by 15\n",
    "score -= 15\n",
    "\n",
    "# TODO: Use compound assignment to double the score\n",
    "score *= 2\n",
    "\n",
    "# TODO: Use compound assignment to divide the score by 5\n",
    "score /= 5\n",
    "\n",
    "print(f\"Final score: {score}\")  # Expected output: 34.0"
   ]
  },
  {
   "cell_type": "markdown",
   "id": "d4663fc3-0559-4d55-b009-a5d581455875",
   "metadata": {
    "tags": []
   },
   "source": [
    "### Boolean Operators"
   ]
  },
  {
   "cell_type": "code",
   "execution_count": null,
   "id": "8dffb55b-22a7-4ddc-934b-0636ca2e5f4d",
   "metadata": {
    "tags": []
   },
   "outputs": [],
   "source": [
    "print(b >= a)\n",
    "print(87 < -2)\n",
    "print(y == x)\n",
    "print(2 == 2.0)"
   ]
  },
  {
   "cell_type": "code",
   "execution_count": null,
   "id": "8ea0e745-381c-4410-9f0b-9fd4f463c3ae",
   "metadata": {
    "tags": []
   },
   "outputs": [],
   "source": [
    "isinstance(12, int)"
   ]
  },
  {
   "cell_type": "code",
   "execution_count": null,
   "id": "e3e2802c-377e-49d5-a4cf-151dae4362a9",
   "metadata": {
    "tags": []
   },
   "outputs": [],
   "source": [
    "isinstance(24.0, int)"
   ]
  },
  {
   "cell_type": "code",
   "execution_count": null,
   "id": "eaa855be-23d2-4529-a8ca-91cbe256478d",
   "metadata": {
    "tags": []
   },
   "outputs": [],
   "source": [
    "isinstance(24.0, (int, float))"
   ]
  },
  {
   "cell_type": "code",
   "execution_count": null,
   "id": "e0dc4e13-0f89-4f5d-9e80-7c1db2f03c55",
   "metadata": {
    "tags": []
   },
   "outputs": [],
   "source": [
    "isinstance('a string', (int, float))"
   ]
  },
  {
   "cell_type": "markdown",
   "id": "aa70bf3f-72b8-4c5b-abcc-378da7fc454d",
   "metadata": {},
   "source": [
    "### Converting types\n",
    "\n",
    "Use `float`, `int`, `str`, etc... to convert types"
   ]
  },
  {
   "cell_type": "code",
   "execution_count": null,
   "id": "8c8f6b50-ce10-40af-af28-38dbda808281",
   "metadata": {
    "tags": []
   },
   "outputs": [],
   "source": [
    "print(float(x))\n",
    "print(int(b))\n",
    "print(str(b))"
   ]
  },
  {
   "cell_type": "code",
   "execution_count": null,
   "id": "7598747f-39b5-4e17-a8be-e9b27efb8e51",
   "metadata": {
    "tags": []
   },
   "outputs": [],
   "source": [
    "print(round(c))\n",
    "print(round(c, 1))"
   ]
  },
  {
   "cell_type": "code",
   "execution_count": null,
   "id": "2072d243-cb3f-4365-bf39-0640003aea6d",
   "metadata": {
    "tags": []
   },
   "outputs": [],
   "source": [
    "q1a = \"What is Newton's 1st law of motion?\"\n",
    "q1b = 'What is Newton\\'s 1st law of motion?'\n",
    "\n",
    "# Are q1a and q1b the same?\n",
    "q1a == q1b"
   ]
  },
  {
   "cell_type": "code",
   "execution_count": null,
   "id": "fb1a2400-549d-4b14-b3dc-3cf2f926668d",
   "metadata": {
    "tags": []
   },
   "outputs": [],
   "source": [
    "# l(a or (A leaf falls on loneliness) by e.e. cummings\n",
    "# triple \"\"\" allows multi-line strings\n",
    "la = \"\"\"\n",
    "l(a\n",
    "le\n",
    "af\n",
    "fa\n",
    "ll\n",
    "s)\n",
    "one\n",
    "l\n",
    "iness\n",
    "\"\"\"\n",
    "\n",
    "print(la)"
   ]
  },
  {
   "cell_type": "code",
   "execution_count": null,
   "id": "f9496038-4d98-4e35-9ccc-67f5f74f4f19",
   "metadata": {
    "tags": []
   },
   "outputs": [],
   "source": [
    "print('isaac' + ' ' + 'newton')"
   ]
  },
  {
   "cell_type": "markdown",
   "id": "af3316eb-6741-48e3-8841-99f5e426faa5",
   "metadata": {},
   "source": [
    "### Formatted Print Statements  (f strings)\n",
    "\n",
    "Use f-string notation to include variables + text in your print statements!"
   ]
  },
  {
   "cell_type": "code",
   "execution_count": null,
   "id": "2d9bc692-fb66-42c6-8b62-3361b9daf4ec",
   "metadata": {
    "tags": []
   },
   "outputs": [],
   "source": [
    "name = \"Alice\"\n",
    "age = 30\n",
    "\n",
    "# Example of an f string\n",
    "print(f\"My name is {name} and I am {age} years old.\")"
   ]
  },
  {
   "cell_type": "code",
   "execution_count": null,
   "id": "f2ea8caa-a6af-4320-9ba3-e850ae62a0ae",
   "metadata": {
    "tags": []
   },
   "outputs": [],
   "source": [
    "pi = 3.14159265375438917589341\n",
    "large_number = 238754381987.34\n",
    "\n",
    "# Print with 4 decimal places:\n",
    "print(f\"The value of pi is approximately: {pi:.4f}\")\n",
    "\n",
    "# Print with 4 decimal places and 6 integer places\n",
    "print(f\"The value of pi is approximately: {pi:14.4f}\")\n",
    "print(f\"The value of largre number is: {large_number:14.4f}\")"
   ]
  },
  {
   "cell_type": "code",
   "execution_count": null,
   "id": "97d221b7-64d4-4872-9182-73ddd470b505",
   "metadata": {},
   "outputs": [],
   "source": []
  }
 ],
 "metadata": {
  "kernelspec": {
   "display_name": "Python 3 (ipykernel)",
   "language": "python",
   "name": "python3"
  },
  "language_info": {
   "codemirror_mode": {
    "name": "ipython",
    "version": 3
   },
   "file_extension": ".py",
   "mimetype": "text/x-python",
   "name": "python",
   "nbconvert_exporter": "python",
   "pygments_lexer": "ipython3",
   "version": "3.7.13"
  }
 },
 "nbformat": 4,
 "nbformat_minor": 5
}
