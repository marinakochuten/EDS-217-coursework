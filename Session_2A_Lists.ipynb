{
 "cells": [
  {
   "cell_type": "markdown",
   "id": "09006270-4107-49c2-b3b8-b8e67439be2a",
   "metadata": {},
   "source": [
    "# Day 2: Session A - Lists\n",
    "\n",
    "[Link to session webpage](https://eds-217-essential-python.github.io/course-materials/interactive-sessions/2a_lists.html)\n",
    "\n",
    "Date: 09/04/2024"
   ]
  },
  {
   "cell_type": "code",
   "execution_count": null,
   "id": "b0a20426-bcd3-4891-aeef-9b411ebc5b82",
   "metadata": {
    "tags": []
   },
   "outputs": [],
   "source": [
    "# Define list variables\n",
    "num_list = [4, 23, 654, 2, 0, -12, 4391]\n",
    "str_list = ['energy', 'water', 'carbon']"
   ]
  },
  {
   "cell_type": "code",
   "execution_count": null,
   "id": "fb1bc01c-7f28-452d-ae9e-048acd6efc96",
   "metadata": {
    "tags": []
   },
   "outputs": [],
   "source": [
    "len(num_list)"
   ]
  },
  {
   "cell_type": "code",
   "execution_count": null,
   "id": "d5e89716-6d8c-4311-8ecb-3c41324ab5fa",
   "metadata": {
    "tags": []
   },
   "outputs": [],
   "source": [
    "min(num_list)"
   ]
  },
  {
   "cell_type": "markdown",
   "id": "b9cf07b1-c46a-426b-a942-1f9cc3e97c9c",
   "metadata": {},
   "source": [
    "## Indexing\n",
    "\n",
    "**Python is zero indexed!**"
   ]
  },
  {
   "cell_type": "code",
   "execution_count": null,
   "id": "257d9eb0-e49c-4e7c-b3f4-5d4e9d57582f",
   "metadata": {
    "tags": []
   },
   "outputs": [],
   "source": [
    "# The second element of a list is index position 1\n",
    "print(num_list[1])"
   ]
  },
  {
   "cell_type": "code",
   "execution_count": null,
   "id": "f10edb17-5610-47d3-9c42-0519008361cf",
   "metadata": {
    "tags": []
   },
   "outputs": [],
   "source": [
    "# The last element of a list can be found using -1:\n",
    "print(num_list[-1])"
   ]
  },
  {
   "cell_type": "code",
   "execution_count": null,
   "id": "6bd460d6-60bf-4372-b7b1-38a87396d933",
   "metadata": {
    "tags": []
   },
   "outputs": [],
   "source": [
    "# Find the 2nd value of str_list two different ways (direct indexing, or from the end of the list):\n",
    "print(str_list[1])\n",
    "print(str_list[-2])"
   ]
  },
  {
   "cell_type": "markdown",
   "id": "2e1ada92-cf5b-49ee-8ef8-7b90613ef483",
   "metadata": {},
   "source": [
    "## Slicing\n",
    "\n",
    "Selecting sections of a collection is \"slicing\""
   ]
  },
  {
   "cell_type": "code",
   "execution_count": null,
   "id": "b29840d7-8490-44cc-b7f8-f55f82c2f8a5",
   "metadata": {
    "tags": []
   },
   "outputs": [],
   "source": [
    "print(num_list)\n",
    "print(f\"slice from [2:4]:{num_list[2:4]}\")\n",
    "\n",
    "# Does not include the last position indicated!!!"
   ]
  },
  {
   "cell_type": "code",
   "execution_count": null,
   "id": "b77ec230-6761-4791-bec7-43950f91d21f",
   "metadata": {
    "tags": []
   },
   "outputs": [],
   "source": [
    "# Everything after a location (including that location):\n",
    "print(num_list[3:])"
   ]
  },
  {
   "cell_type": "code",
   "execution_count": null,
   "id": "3b0c269e-2f13-4342-987c-7cd7ccab93f4",
   "metadata": {
    "tags": []
   },
   "outputs": [],
   "source": [
    "num_list = [4, 23, 654, 2, 0, -12, 4391]"
   ]
  },
  {
   "cell_type": "code",
   "execution_count": null,
   "id": "ff7addfc-4db1-4e4d-9e67-72238dcd1e66",
   "metadata": {
    "tags": []
   },
   "outputs": [],
   "source": [
    "print(f\"num_list[2:6]:{num_list[2:6]}\")"
   ]
  },
  {
   "cell_type": "code",
   "execution_count": null,
   "id": "23789de1-f73c-4837-a50f-5aa2b2c79d7f",
   "metadata": {
    "tags": []
   },
   "outputs": [],
   "source": [
    "print(f\"num_list[0:4]:{num_list[0:4]}\")"
   ]
  },
  {
   "cell_type": "code",
   "execution_count": null,
   "id": "9dc90b8c-5536-4bc3-beb1-ea19737e4ecf",
   "metadata": {
    "tags": []
   },
   "outputs": [],
   "source": [
    "num_list[:4]"
   ]
  },
  {
   "cell_type": "code",
   "execution_count": null,
   "id": "30bf0556-aae4-4c49-ab38-a9ce195fc969",
   "metadata": {
    "tags": []
   },
   "outputs": [],
   "source": [
    "print(f\"num_list[-6:-1]:{num_list[-6:-1]}\")"
   ]
  },
  {
   "cell_type": "code",
   "execution_count": null,
   "id": "38d82706-0c19-491a-8d4b-ac54e18c8ca3",
   "metadata": {
    "tags": []
   },
   "outputs": [],
   "source": [
    "# Let's go through num_list from start to end in steps of 2\n",
    "# num_list[this_position : up to but not including this_position : in steps of]\n",
    "num_list[0::2]"
   ]
  },
  {
   "cell_type": "markdown",
   "id": "6566355b-c1b8-4049-a049-87abe2e52bf0",
   "metadata": {},
   "source": [
    "### String Indices\n",
    "\n",
    "similar to lists...\n"
   ]
  },
  {
   "cell_type": "code",
   "execution_count": null,
   "id": "5af8edf8-1854-4fe2-9231-9ff3947b4f90",
   "metadata": {
    "tags": []
   },
   "outputs": [],
   "source": [
    "word_str = 'antidisestablishmentarianism'"
   ]
  },
  {
   "cell_type": "code",
   "execution_count": null,
   "id": "b9db447f-c731-449a-b560-bbe9472d0cde",
   "metadata": {
    "tags": []
   },
   "outputs": [],
   "source": [
    "# Select every 3rd letter in word_str\n",
    "word_str[::3]"
   ]
  },
  {
   "cell_type": "code",
   "execution_count": null,
   "id": "f7210417-f81b-4aaa-9639-98a6da2b8fbd",
   "metadata": {
    "tags": []
   },
   "outputs": [],
   "source": [
    "colors = ['red', 'blue', 'green', 'black', 'white', 'pink']"
   ]
  },
  {
   "cell_type": "code",
   "execution_count": null,
   "id": "6e376c9f-88d8-450f-859d-19e15002d388",
   "metadata": {
    "tags": []
   },
   "outputs": [],
   "source": [
    "# Add element x to a list at position i using insert(i, x)\n",
    "colors.insert(3, 'purple')\n",
    "print(colors)"
   ]
  },
  {
   "cell_type": "code",
   "execution_count": null,
   "id": "5ef3cb2f-b6e1-4b58-b13e-aca5453ec3e0",
   "metadata": {
    "tags": []
   },
   "outputs": [],
   "source": [
    "# Remove from the end of a list using pop\n",
    "colors = ['red', 'blue', 'green', 'black', 'white', 'pink']\n",
    "print(colors.pop())\n",
    "print(colors)"
   ]
  },
  {
   "cell_type": "code",
   "execution_count": null,
   "id": "6b439a4a-e0c2-4874-91de-8615dac7f597",
   "metadata": {
    "tags": []
   },
   "outputs": [],
   "source": [
    "# Use remove to get rid of a specific value(s)\n",
    "# .remove removes the first instance of the value\n",
    "colors = ['red', 'blue', 'green', 'black', 'white', 'pink']\n",
    "colors.remove('red')\n",
    "print(colors)"
   ]
  },
  {
   "cell_type": "code",
   "execution_count": null,
   "id": "6d1a7fd7-619d-44a6-abbc-bfe51b08e51d",
   "metadata": {
    "tags": []
   },
   "outputs": [],
   "source": [
    "# Use del for removing slices\n",
    "colors = ['red', 'blue', 'green', 'black', 'white', 'pink']\n",
    "del colors[2: :2]\n",
    "print(colors)"
   ]
  },
  {
   "cell_type": "markdown",
   "id": "a1c98023-ab39-4a99-a3fb-c4db8105d294",
   "metadata": {},
   "source": [
    "Apply what we've learned:"
   ]
  },
  {
   "cell_type": "code",
   "execution_count": null,
   "id": "01a2f6c0-7be5-43bc-abaa-4995ab008b6c",
   "metadata": {
    "tags": []
   },
   "outputs": [],
   "source": [
    "# Remove pink and purple from colors, using del for one of the strings and list.remove() for the other.\n",
    "colors = ['red', 'blue', 'green', 'purple', 'black', 'white', 'pink']\n",
    "print(colors)\n",
    "del colors[-1]\n",
    "print(colors)\n",
    "colors.remove('purple')\n",
    "print(colors)"
   ]
  },
  {
   "cell_type": "code",
   "execution_count": null,
   "id": "07a349e3-0aa2-4282-b589-040a0c996141",
   "metadata": {
    "tags": []
   },
   "outputs": [],
   "source": [
    "help(colors)"
   ]
  },
  {
   "cell_type": "markdown",
   "id": "c8b16146-701c-41cc-85c7-2b576c01f6a3",
   "metadata": {},
   "source": [
    "### Sorting Lists"
   ]
  },
  {
   "cell_type": "code",
   "execution_count": null,
   "id": "bf357efb-fa21-415a-9ccb-c0e1c7b2dce7",
   "metadata": {
    "tags": []
   },
   "outputs": [],
   "source": [
    "rand_list = [5.1 , 3.42 , 3.333 , 100.4 , 0.5 , 26.0 , 7.44 , 5.8 , 39.0]\n",
    "rand_list.sort()\n",
    "print(rand_list)"
   ]
  },
  {
   "cell_type": "code",
   "execution_count": null,
   "id": "f1df4f29-0a28-40af-b9f8-c1a3c384a14b",
   "metadata": {
    "tags": []
   },
   "outputs": [],
   "source": [
    "# Use the reverse argument to get a list from largest to smallest:\n",
    "rand_list = [5.1 , 3.42 , 3.333 , 100.4 , 0.5 , 26.0 , 7.44 , 5.8 , 39.0]\n",
    "rand_list.sort(reverse=True)\n",
    "print(rand_list)"
   ]
  },
  {
   "cell_type": "code",
   "execution_count": null,
   "id": "bcd4a27b-3ce5-430f-ab1c-ee83bbaef708",
   "metadata": {
    "tags": []
   },
   "outputs": [],
   "source": [
    "# To get a new list that is sorted, we use the sorted function\n",
    "rand_list = [5.1 , 3.42 , 3.333 , 100.4 , 0.5 , 26.0 , 7.44 , 5.8 , 39.0]\n",
    "new_list = sorted(rand_list, reverse = True)\n",
    "print(f\"rand_list: {rand_list}\")\n",
    "print(f\"new_list: {new_list}\")"
   ]
  },
  {
   "cell_type": "code",
   "execution_count": null,
   "id": "90272d03-c5aa-46d3-92ac-ff99d053f059",
   "metadata": {
    "tags": []
   },
   "outputs": [],
   "source": [
    "# Use .copy() to avoid creating views when making naked assignments\n",
    "rand_list = [5.1 , 3.42 , 3.333 , 100.4 , 0.5 , 26.0 , 7.44 , 5.8 , 39.0]\n",
    "new_list = rand_list.copy()   # this .copy() is super important, otherwise you change both versions\n",
    "new_list.sort()\n",
    "print(f\"new_list after sorting: {new_list}\")\n",
    "print(f\"rand_list after sorting new_list: {rand_list}\")"
   ]
  },
  {
   "cell_type": "markdown",
   "id": "b6b82861-eb29-495c-baa7-6f25fbb53d07",
   "metadata": {},
   "source": [
    "## Basic Operators and Lists\n",
    "\n",
    "`+` `*`\n",
    "\n",
    "It's easy!"
   ]
  },
  {
   "cell_type": "code",
   "execution_count": null,
   "id": "e3f9d054-4471-42e3-8e3e-10f45066630d",
   "metadata": {
    "tags": []
   },
   "outputs": [],
   "source": [
    "rainbow  = ['red', 'orange', 'yellow', 'green', 'blue', 'indigo', 'violet']\n",
    "shades = ['coral', 'chartreuse', 'cyan', 'navy']\n",
    "print( rainbow + shades )"
   ]
  },
  {
   "cell_type": "code",
   "execution_count": null,
   "id": "966c50f1-045a-4cb4-926f-141d210fa0d0",
   "metadata": {
    "tags": []
   },
   "outputs": [],
   "source": [
    "print(str_list * 2)"
   ]
  },
  {
   "cell_type": "code",
   "execution_count": null,
   "id": "366f493a-7cea-4373-8f54-da46d3da2c5c",
   "metadata": {
    "tags": []
   },
   "outputs": [],
   "source": [
    "# Make a list of 20 0s. Handy for padding out lots of values over and over again\n",
    "print([0] * 20 )"
   ]
  },
  {
   "cell_type": "markdown",
   "id": "2f0b1303-3059-4242-9ffa-f0a7847a97f0",
   "metadata": {},
   "source": [
    "## Sequential Lists\n",
    "\n",
    "`range()` is a built-in funcation to make seqential lists\n"
   ]
  },
  {
   "cell_type": "code",
   "execution_count": null,
   "id": "61c540ce-45e1-40b4-a263-ee1dc6bbdea1",
   "metadata": {
    "tags": []
   },
   "outputs": [],
   "source": [
    "a = list(range(4))\n",
    "print(a)"
   ]
  },
  {
   "cell_type": "code",
   "execution_count": null,
   "id": "fc425a5d-73f9-4d05-ab95-7ca97fab9171",
   "metadata": {
    "tags": []
   },
   "outputs": [],
   "source": [
    "print(\n",
    "    list(range(1,13))*50\n",
    ")"
   ]
  },
  {
   "cell_type": "code",
   "execution_count": null,
   "id": "8a736903-719a-4e9d-89b7-cd68699935b7",
   "metadata": {},
   "outputs": [],
   "source": []
  }
 ],
 "metadata": {
  "kernelspec": {
   "display_name": "Python 3.10.0",
   "language": "python",
   "name": "python3.10.0"
  },
  "language_info": {
   "codemirror_mode": {
    "name": "ipython",
    "version": 3
   },
   "file_extension": ".py",
   "mimetype": "text/x-python",
   "name": "python",
   "nbconvert_exporter": "python",
   "pygments_lexer": "ipython3",
   "version": "3.10.0"
  }
 },
 "nbformat": 4,
 "nbformat_minor": 5
}
