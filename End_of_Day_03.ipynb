{
 "cells": [
  {
   "cell_type": "markdown",
   "id": "9dd06779-cafc-4183-8537-96d08fa6c21a",
   "metadata": {},
   "source": [
    "# Using Pandas Series for Data Manipulation\n",
    "\n",
    "[link to session](https://eds-217-essential-python.github.io/course-materials/eod-practice/eod-day3.html)\n",
    "\n",
    "date: 09/05/2024"
   ]
  },
  {
   "cell_type": "code",
   "execution_count": null,
   "id": "5addf3f4-97c7-492d-b705-8a83ef56e0b2",
   "metadata": {
    "tags": []
   },
   "outputs": [],
   "source": [
    "import pandas as pd\n",
    "import numpy as np"
   ]
  },
  {
   "cell_type": "code",
   "execution_count": null,
   "id": "064df3ef-e149-45a4-a649-77958b920e1a",
   "metadata": {
    "tags": []
   },
   "outputs": [],
   "source": [
    "rng = np.random.default_rng(seed=42)"
   ]
  },
  {
   "cell_type": "code",
   "execution_count": null,
   "id": "f5afd187-3f7d-4954-9a0f-d6f8e1eb94fc",
   "metadata": {
    "tags": []
   },
   "outputs": [],
   "source": [
    "random_scores = rng.integers(70, 100, size=10)\n",
    "print(random_scores)"
   ]
  },
  {
   "cell_type": "code",
   "execution_count": null,
   "id": "acf38275-d017-4bae-ae55-7df6749370cc",
   "metadata": {
    "tags": []
   },
   "outputs": [],
   "source": [
    "# Create a series called scores that contains 10 elements representing monthly test scores. \n",
    "# We’ll use random integers between 70 and 100 to generate the monthly scores, and set the index to be the month names from September to June:\n",
    "\n",
    "scores = pd.Series(rng.integers(70, 100, size=10), \n",
    "        index = ['Sep', 'Oct', 'Nov', 'Dec', 'Jan', 'Feb', 'Mar', 'Apr', 'May', 'Jun'])\n",
    "                   \n",
    "print(scores)"
   ]
  },
  {
   "cell_type": "code",
   "execution_count": null,
   "id": "5e4c18b6-007e-4b26-965c-976835dc233a",
   "metadata": {
    "tags": []
   },
   "outputs": [],
   "source": [
    "# mean scores:\n",
    "print(f\"the student's mean score is {scores.mean()}\")"
   ]
  },
  {
   "cell_type": "code",
   "execution_count": null,
   "id": "9f441421-7a46-4167-a041-d63f0cb43f9f",
   "metadata": {
    "tags": []
   },
   "outputs": [],
   "source": [
    "# means scores for the first 5 months:\n",
    "first_months = scores['Sep':'Jan']\n",
    "print(f\"the student's mean score for the first half of the year is {first_months.mean()}\")"
   ]
  },
  {
   "cell_type": "code",
   "execution_count": null,
   "id": "eedba191-384d-47ba-99b7-4e9e083bd306",
   "metadata": {
    "tags": []
   },
   "outputs": [],
   "source": [
    "# mean scored for the last 5 months:\n",
    "last_months = scores['Feb':'Jun']\n",
    "print(f\"the student's mean score for the last half of the year is {last_months.mean()}\")"
   ]
  },
  {
   "cell_type": "code",
   "execution_count": null,
   "id": "0529bbb3-c54a-4bdc-a40c-eedf1f4a9101",
   "metadata": {
    "tags": []
   },
   "outputs": [],
   "source": [
    "last_months.mean() - first_months.mean()"
   ]
  },
  {
   "cell_type": "markdown",
   "id": "50696f12-f03b-44e3-bdf6-73a176f55842",
   "metadata": {},
   "source": [
    "## Exploring reproducability"
   ]
  },
  {
   "cell_type": "code",
   "execution_count": null,
   "id": "cc75e938-b03b-4108-ac7c-2dee7b10bd53",
   "metadata": {
    "tags": []
   },
   "outputs": [],
   "source": [
    "rng1 = np.random.default_rng(seed=42)\n",
    "rng2 = np.random.default_rng(seed=42)\n",
    "\n",
    "series1 = pd.Series(rng1.integers(70, 101, size=10), index=['Sep', 'Oct', 'Nov', 'Dec', 'Jan', 'Feb', 'Mar', 'Apr', 'May', 'Jun'])\n",
    "series2 = pd.Series(rng2.integers(70, 101, size=10), index=['Sep', 'Oct', 'Nov', 'Dec', 'Jan', 'Feb', 'Mar', 'Apr', 'May', 'Jun'])\n",
    "\n",
    "print(series1.equals(series2))  # This should return True"
   ]
  },
  {
   "cell_type": "code",
   "execution_count": null,
   "id": "db15b8e8-0ac0-469f-822c-781855dbbc17",
   "metadata": {
    "tags": []
   },
   "outputs": [],
   "source": [
    "rng3 = np.random.default_rng(seed=42)\n",
    "rng4 = np.random.default_rng(seed=123)\n",
    "\n",
    "series3 = pd.Series(rng3.integers(70, 101, size=10), index=['Sep', 'Oct', 'Nov', 'Dec', 'Jan', 'Feb', 'Mar', 'Apr', 'May', 'Jun'])\n",
    "series4 = pd.Series(rng4.integers(70, 101, size=10), index=['Sep', 'Oct', 'Nov', 'Dec', 'Jan', 'Feb', 'Mar', 'Apr', 'May', 'Jun'])\n",
    "\n",
    "print(series3.equals(series4))  # This should return False"
   ]
  },
  {
   "cell_type": "code",
   "execution_count": null,
   "id": "a3644ac2-6580-4048-ab9e-a579f239822f",
   "metadata": {},
   "outputs": [],
   "source": []
  }
 ],
 "metadata": {
  "kernelspec": {
   "display_name": "Python 3.10.0",
   "language": "python",
   "name": "python3.10.0"
  },
  "language_info": {
   "codemirror_mode": {
    "name": "ipython",
    "version": 3
   },
   "file_extension": ".py",
   "mimetype": "text/x-python",
   "name": "python",
   "nbconvert_exporter": "python",
   "pygments_lexer": "ipython3",
   "version": "3.10.0"
  }
 },
 "nbformat": 4,
 "nbformat_minor": 5
}
