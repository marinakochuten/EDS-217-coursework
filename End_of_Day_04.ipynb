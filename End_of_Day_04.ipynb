{
 "cells": [
  {
   "cell_type": "markdown",
   "id": "061a3192-81a0-4616-bc0d-e6c2815df7c4",
   "metadata": {},
   "source": [
    "# Day 4: Tasks & activities - Reading, Filtering, and Visualizing Data in Pandas\n",
    "\n",
    "[link to session](https://eds-217-essential-python.github.io/course-materials/eod-practice/eod-day4.html)\n",
    "\n",
    "Date: 09/06/2024"
   ]
  },
  {
   "cell_type": "code",
   "execution_count": null,
   "id": "522d680e-38c1-40fd-b45c-8aab0e5cfa60",
   "metadata": {
    "tags": []
   },
   "outputs": [],
   "source": [
    "import pandas as pd\n",
    "import numpy as np"
   ]
  },
  {
   "cell_type": "code",
   "execution_count": null,
   "id": "18ea1a3a-c219-4ee7-8d16-a500fed2c8d1",
   "metadata": {
    "tags": []
   },
   "outputs": [],
   "source": [
    "url = 'https://ucsb.box.com/shared/static/dnnu59jsnkymup6o8aaovdywrtxiy3a9.csv'\n",
    "df = pd.read_csv(url, parse_dates=['Date'])"
   ]
  },
  {
   "cell_type": "code",
   "execution_count": null,
   "id": "2d2f1de6-baed-497c-91ae-5bf169d73bea",
   "metadata": {
    "tags": []
   },
   "outputs": [],
   "source": [
    "df.head(5)"
   ]
  },
  {
   "cell_type": "code",
   "execution_count": null,
   "id": "ad287f7d-6e7b-45c9-b807-b27e46bf364c",
   "metadata": {
    "tags": []
   },
   "outputs": [],
   "source": [
    "df.dtypes"
   ]
  },
  {
   "cell_type": "code",
   "execution_count": null,
   "id": "f4555518-0e1c-41f6-a811-f778fc59806e",
   "metadata": {
    "tags": []
   },
   "outputs": [],
   "source": [
    "# see summary stats:\n",
    "df.describe()"
   ]
  },
  {
   "cell_type": "code",
   "execution_count": null,
   "id": "f4741647-d8bf-4b7f-8a88-c120bf29fac9",
   "metadata": {
    "tags": []
   },
   "outputs": [],
   "source": [
    "df.isnull().sum()"
   ]
  },
  {
   "cell_type": "code",
   "execution_count": null,
   "id": "ae2e52cf-90a7-403a-bae7-bc41796737e7",
   "metadata": {
    "tags": []
   },
   "outputs": [],
   "source": [
    "# Remove any records that are missing a value in the Oceans\n",
    "\n",
    "df_valid = df[~(df['Oceans'].isnull())].copy()\n",
    "df_valid.isnull().sum()"
   ]
  },
  {
   "cell_type": "code",
   "execution_count": null,
   "id": "7cf8e65e-2ba7-4868-9938-e9a592c6ed99",
   "metadata": {
    "tags": []
   },
   "outputs": [],
   "source": [
    "# Create a groupby object called oceans that groups the data in df according to the value of the Oceans column.\n",
    "\n",
    "oceans = df_valid.groupby('Oceans')"
   ]
  },
  {
   "cell_type": "code",
   "execution_count": null,
   "id": "9f3b94f6-7824-4638-a02f-354f775a542a",
   "metadata": {
    "tags": []
   },
   "outputs": [],
   "source": [
    "# Determine the total number of Measurements taken from each Ocean.\n",
    "oceans['Measurement'].count()"
   ]
  },
  {
   "cell_type": "code",
   "execution_count": null,
   "id": "9fac0416-b729-4fc4-a2c8-51ae3d4cd9d7",
   "metadata": {
    "tags": []
   },
   "outputs": [],
   "source": [
    "# Determine the average value of Measurement taken from each Ocean.\n",
    "oceans['Measurement'].mean()"
   ]
  },
  {
   "cell_type": "code",
   "execution_count": null,
   "id": "282b579d-6c8b-4fa3-b7b7-d0690f16661a",
   "metadata": {
    "tags": []
   },
   "outputs": [],
   "source": [
    "# Filter the data to a new df (called df2) that only contains rows where the Unit of measurement is pieces/m3\n",
    "\n",
    "df2 = df_valid[ df_valid['Unit'] == 'pieces/m3' ]"
   ]
  },
  {
   "cell_type": "code",
   "execution_count": null,
   "id": "b2d6c98a-ef2d-4ef7-8f96-9f83688fd891",
   "metadata": {
    "tags": []
   },
   "outputs": [],
   "source": [
    "# Use the groupby and the max() command to determine the Maximum value of pieces/m3 measured for each Ocean\n",
    "\n",
    "df2_max = df2.groupby('Oceans')\n",
    "df2_max = df2_max['Measurement'].max()\n",
    "df2_max.head()"
   ]
  },
  {
   "cell_type": "code",
   "execution_count": null,
   "id": "e49ddf99-6a2b-49eb-b85b-c0035e10d7c0",
   "metadata": {
    "tags": []
   },
   "outputs": [],
   "source": [
    "# Make a histogram of the latitude of every sample in your filtered dataframe using the DataFrame plot command.\n",
    "\n",
    "df2['Latitude'].plot(kind='hist')"
   ]
  },
  {
   "cell_type": "code",
   "execution_count": null,
   "id": "6a10781d-e0bd-41d3-9a61-8924ef1407d1",
   "metadata": {
    "tags": []
   },
   "outputs": [],
   "source": [
    "# Make a new dataframe (df3) from your filtered dataframe (df2) that contains only rows where Measurement is greater than zero.\n",
    "\n",
    "df3 = df2[ df2['Measurement'] > 0 ].copy()\n",
    "df3['Measurement']"
   ]
  },
  {
   "cell_type": "code",
   "execution_count": null,
   "id": "a16eec8f-e4ef-4a6c-82e3-786f33bb42c4",
   "metadata": {
    "tags": []
   },
   "outputs": [],
   "source": [
    "# Create a new column in df3 that contains the log10 of Measurements.\n",
    "\n",
    "df3['log10'] = np.log10(df3['Measurement'])"
   ]
  },
  {
   "cell_type": "code",
   "execution_count": null,
   "id": "e725e698-75ad-4bd5-9afd-0a49ad9b961f",
   "metadata": {
    "tags": []
   },
   "outputs": [],
   "source": [
    "df3.head()"
   ]
  },
  {
   "cell_type": "code",
   "execution_count": null,
   "id": "c67d52ca-cc47-425f-b693-f779c68e2aae",
   "metadata": {
    "tags": []
   },
   "outputs": [],
   "source": [
    "# Make a histogram of the log-transformed values in df3\n",
    "\n",
    "df3['log10'].plot(kind='hist')"
   ]
  },
  {
   "cell_type": "markdown",
   "id": "af456ede-11a8-4997-84be-d482f52635ba",
   "metadata": {},
   "source": [
    "learned a bunch about .copy()!! \n",
    "\n",
    "when you dont use .copy(), you are essentially creating a new view on your original dataframe\n",
    "when you do use .copy(), you make a new df with your changes, and you can them continue down the line making changes to your changed data. \n",
    "\n"
   ]
  },
  {
   "cell_type": "code",
   "execution_count": null,
   "id": "6648f889-4a2b-4d90-95eb-7d9a1c0fc0e4",
   "metadata": {},
   "outputs": [],
   "source": []
  }
 ],
 "metadata": {
  "kernelspec": {
   "display_name": "Python 3.10.0",
   "language": "python",
   "name": "python3.10.0"
  },
  "language_info": {
   "codemirror_mode": {
    "name": "ipython",
    "version": 3
   },
   "file_extension": ".py",
   "mimetype": "text/x-python",
   "name": "python",
   "nbconvert_exporter": "python",
   "pygments_lexer": "ipython3",
   "version": "3.10.0"
  }
 },
 "nbformat": 4,
 "nbformat_minor": 5
}
