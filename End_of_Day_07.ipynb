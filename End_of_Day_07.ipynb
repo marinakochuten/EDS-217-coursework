{
 "cells": [
  {
   "cell_type": "markdown",
   "id": "fc8464f5-cfda-45f0-b159-7ad54e928e4e",
   "metadata": {},
   "source": [
    "# [Plant Hardiness Zones](https://kcaylor.github.io/EDS-217-Essential-Python.github.io/course-materials/eod-practice/eod-day7.html)\n",
    "\n",
    "end of day, 09/11/2024"
   ]
  },
  {
   "cell_type": "code",
   "execution_count": null,
   "id": "1b3a8ae4-7111-44b4-8dee-10bc76c699d6",
   "metadata": {
    "tags": []
   },
   "outputs": [],
   "source": [
    "import matplotlib.pyplot as plt"
   ]
  },
  {
   "cell_type": "code",
   "execution_count": null,
   "id": "e4ee5e7f-3b8b-4f21-b2b1-870c8683e6cd",
   "metadata": {
    "tags": []
   },
   "outputs": [],
   "source": [
    "import pandas as pd\n",
    "import matplotlib as plt\n",
    "import seaborn as sns\n",
    "\n",
    "zipcode_data = pd.read_csv('https://prism.oregonstate.edu/projects/phm_data/phzm_us_zipcode_2023.csv')\n",
    "survey_data = pd.read_csv('https://prism.oregonstate.edu/projects/public/phm/2012/phm_us_zipcode_2012.csv')\n",
    "zipcodes = pd.read_csv('http://uszipcodelist.com/zip_code_database.csv')\n",
    "\n",
    "\n",
    "print(zipcode_data.head())\n",
    "print(survey_data.head())\n",
    "print(zipcodes.head())"
   ]
  },
  {
   "cell_type": "code",
   "execution_count": null,
   "id": "f33d8c21-0a12-4f5c-8384-281be05af3f4",
   "metadata": {
    "tags": []
   },
   "outputs": [],
   "source": [
    "# Ensure the zipcode or zip column in all datasets is a 5-character string, filling in any zeros that were dropped.\n",
    "zipcode_data.dtypes\n",
    "\n",
    "# need to add leading 0s to all values that are less than 5 characters\n",
    "# string.zfill(5)\n",
    "\n",
    "zipcode_data['zipcode'] = zipcode_data['zipcode'].values.astype('str')\n",
    "zipcode_data.dtypes\n",
    "\n",
    "zipcode_data['zipcode'] = zipcode_data['zipcode'].str.zfill(5)\n",
    "zipcode_data['zipcode']"
   ]
  },
  {
   "cell_type": "code",
   "execution_count": null,
   "id": "16fb623d-1df6-4b19-b8f4-e636dd5d0fbb",
   "metadata": {
    "tags": []
   },
   "outputs": [],
   "source": [
    "survey_data['zipcode'] = survey_data['zipcode'].values.astype('str')\n",
    "survey_data['zipcode'] = survey_data['zipcode'].str.zfill(5)\n",
    "survey_data.head()"
   ]
  },
  {
   "cell_type": "code",
   "execution_count": null,
   "id": "efb28066-8e2d-4d6e-be74-eac8749b5073",
   "metadata": {
    "tags": []
   },
   "outputs": [],
   "source": [
    "# Combine the 2012 and 2023 data together by adding a year column and then stacking them together.\n",
    "\n",
    "print(zipcode_data.columns)\n",
    "print(survey_data.columns)\n",
    "\n",
    "zipcode_data['year'] = 2023\n",
    "survey_data['year'] = 2012"
   ]
  },
  {
   "cell_type": "code",
   "execution_count": null,
   "id": "70bcd923-b5e7-404a-9e03-07c97a5f91fd",
   "metadata": {
    "tags": []
   },
   "outputs": [],
   "source": [
    "survey_data.head()"
   ]
  },
  {
   "cell_type": "code",
   "execution_count": null,
   "id": "3bee4a17-a2dc-4aa4-ae01-2bf091f4eb21",
   "metadata": {
    "tags": []
   },
   "outputs": [],
   "source": [
    "#merged = pd.merge(zipcode_data, survey_data, on = 'year', how = 'outer')\n",
    "\n",
    "stacked = pd.concat([zipcode_data, survey_data])\n",
    "stacked"
   ]
  },
  {
   "cell_type": "code",
   "execution_count": null,
   "id": "37757388-6b00-46dc-b5c3-9dd28e6d6adf",
   "metadata": {
    "tags": []
   },
   "outputs": [],
   "source": [
    "# In the combined plant hardiness dataframe: \n",
    "# create two new columns, trange_min and trange_max, containing the min and max temperatures of the trange column \n",
    "# Remove the original trange column\n",
    "\n",
    "stacked[['trange_min', 'trash', 'trange_max']] = stacked['trange'].str.split(expand = True)\n"
   ]
  },
  {
   "cell_type": "code",
   "execution_count": null,
   "id": "bf8b03c2-1c02-484c-bf8e-fb6e50081506",
   "metadata": {
    "tags": []
   },
   "outputs": [],
   "source": [
    "stacked = stacked.drop(['trange', 'trash'], axis=1)\n",
    "stacked"
   ]
  },
  {
   "cell_type": "code",
   "execution_count": null,
   "id": "28155ee2-e201-48dd-be21-33294b723b75",
   "metadata": {
    "tags": []
   },
   "outputs": [],
   "source": [
    "# On average, how much has the minimum temperature in a zip code changed from 2012 to 2023?\n",
    "# groupy by year - take the mean of trange min \n",
    "\n",
    "\n",
    "stacked[['trange_min', 'trange_max']] = stacked[['trange_min', 'trange_max']].values.astype('int')\n",
    "stacked.dtypes\n",
    "\n",
    "\n",
    "#min_temp_change = stacked.groupby('year')['trange_min'].agg('mean')\n",
    "#min_temp_change\n"
   ]
  },
  {
   "cell_type": "code",
   "execution_count": null,
   "id": "ccfb85cc-33c6-474b-b339-c4644a0f51cc",
   "metadata": {
    "tags": []
   },
   "outputs": [],
   "source": [
    "#min_temp_change = stacked.groupby('year')['trange_min'].mean()\n",
    "#in_temp_change"
   ]
  },
  {
   "cell_type": "code",
   "execution_count": null,
   "id": "5cf22141-aa0a-49a2-a994-ea99f7ae51aa",
   "metadata": {
    "tags": []
   },
   "outputs": [],
   "source": [
    "zipcodes['zip'] = zipcodes['zip'].values.astype('str')\n",
    "zipcodes['zip'] = zipcodes['zip'].str.zfill(5)\n",
    "zipcodes.rename(columns={'zip':'zipcode'}, inplace=True)\n",
    "\n",
    "zipcodes.head()"
   ]
  },
  {
   "cell_type": "code",
   "execution_count": null,
   "id": "4e24a8a6-fec4-46ae-81dd-f5b6efd00a93",
   "metadata": {
    "tags": []
   },
   "outputs": [],
   "source": [
    "# Merge together the combined plant hardiness dataset and the zipcode dataset by zipcode.\n",
    "\n",
    "hardiness_zips = pd.merge(stacked, zipcodes, on = 'zipcode', how = 'outer')\n",
    "hardiness_zips.head()"
   ]
  },
  {
   "cell_type": "code",
   "execution_count": null,
   "id": "30f30798-02e6-48a6-838e-cde2bbb53813",
   "metadata": {
    "tags": []
   },
   "outputs": [],
   "source": [
    "\n",
    "map_data = hardiness_zips[hardiness_zips['longitude'] < -60]\n",
    "map_data"
   ]
  },
  {
   "cell_type": "code",
   "execution_count": null,
   "id": "6b8ec3de-5870-4fed-be66-370db1f123f2",
   "metadata": {
    "tags": []
   },
   "outputs": [],
   "source": [
    "# Create two scatter plot where:\n",
    "# the x axis is the longitude, the y axis is the latitude, the color is based on the minimum temperature in 2012 for one and 2023 for the other \n",
    "# Only look at longitude < -60\n",
    "\n",
    "#ax = sns.relplot(\n",
    "    #data=map_data, kind=\"scatter\",\n",
    "    #x=\"longitude\", y=\"latitude\", col=\"year\",\n",
    "    #hue=\"trange_min\"\n",
    "#)\n",
    "\n",
    "\n",
    "# Create scatter plot for 2012\n",
    "plt.figure(figsize=(10, 6))\n",
    "sns.scatterplot(data=map_data[map_data['year'] == 2012], \n",
    "                x='longitude', y='latitude', hue='trange_min', palette='coolwarm', s=10)\n",
    "plt.title('Minimum Temperature in 2012 by Latitude and Longitude')\n",
    "plt.xlabel('Longitude')\n",
    "plt.ylabel('Latitude')\n",
    "plt.legend(title='Min Temp (2012)')\n",
    "plt.show()\n",
    "\n",
    "# Create scatter plot for 2023\n",
    "plt.figure(figsize=(10, 6))\n",
    "sns.scatterplot(data=map_data[map_data['year'] == 2023], \n",
    "                x='longitude', y='latitude', hue='trange_min', palette='coolwarm', s=10)\n",
    "plt.title('Minimum Temperature in 2023 by Latitude and Longitude')\n",
    "plt.xlabel('Longitude')\n",
    "plt.ylabel('Latitude')\n",
    "plt.legend(title='Min Temp (2023)')\n",
    "plt.show()"
   ]
  },
  {
   "cell_type": "code",
   "execution_count": null,
   "id": "60b59e65-56da-4ec3-b78d-37cd20720333",
   "metadata": {
    "tags": []
   },
   "outputs": [],
   "source": [
    "# Now create a single scatter plot where you look at the difference between the minimum temperature in 2012 and 2023\n",
    "# Only look at longitude < -60. Color any zipcodes where you do not have information from both years in grey\n",
    "\n",
    "# Find the difference in minimum temperature between 2023 and 2012\n",
    "df_diff = map_data.pivot_table(index=['zipcode', 'latitude', 'longitude'], \n",
    "                                  columns='year', values='trange_min').reset_index()\n",
    "df_diff['temp_diff'] = df_diff[2023] - df_diff[2012]\n",
    "\n",
    "# Create a scatter plot showing the difference\n",
    "plt.figure(figsize=(10, 6))\n",
    "sns.scatterplot(data=df_diff, x='longitude', y='latitude', hue='temp_diff', \n",
    "                palette='coolwarm', s=10, edgecolor='gray', legend='full')\n",
    "plt.title('Temperature Difference (2023 - 2012) by Latitude and Longitude')\n",
    "plt.xlabel('Longitude')\n",
    "plt.ylabel('Latitude')\n",
    "plt.legend(title='Temp Difference')\n",
    "plt.show()"
   ]
  },
  {
   "cell_type": "code",
   "execution_count": null,
   "id": "6d3fa7bf-b5a4-474a-8a72-645a18a74490",
   "metadata": {
    "tags": []
   },
   "outputs": [],
   "source": [
    "#stacked_pivot = hardiness_zips.pivot(index= ['zipcode', 'latitude', 'longitude'], columns = 'year', values = 'trange_min')"
   ]
  },
  {
   "cell_type": "code",
   "execution_count": null,
   "id": "125dccfc-2104-4777-8166-9f86273730d8",
   "metadata": {
    "tags": []
   },
   "outputs": [],
   "source": [
    "#stacked_pivot.reset_index()"
   ]
  },
  {
   "cell_type": "code",
   "execution_count": null,
   "id": "2e87f1f9-2ecd-4b65-9011-dfc1fa77f7fe",
   "metadata": {
    "tags": []
   },
   "outputs": [],
   "source": [
    "stacked_pivot['diff'] = stacked_pivot[2023.0] - stacked_pivot[2012.0]\n",
    "stacked_pivot"
   ]
  },
  {
   "cell_type": "code",
   "execution_count": null,
   "id": "b3a9f835-e3a4-48e7-ade5-24221530d6fc",
   "metadata": {
    "tags": []
   },
   "outputs": [],
   "source": []
  },
  {
   "cell_type": "code",
   "execution_count": null,
   "id": "bd0009ec-151d-45fe-9d82-ffbeca68d8c6",
   "metadata": {
    "tags": []
   },
   "outputs": [],
   "source": [
    "plt.figure(figsize=(10, 6))\n",
    "sns.scatterplot(data=stacked_pivot[stacked_pivot['year'] == 2023], \n",
    "                x='longitude', y='latitude', hue='trange_min', palette='coolwarm', s=10)\n",
    "plt.title('Minimum Temperature in 2023 by Latitude and Longitude')\n",
    "plt.xlabel('Longitude')\n",
    "plt.ylabel('Latitude')\n",
    "plt.legend(title='Min Temp (2023)')\n",
    "plt.show()"
   ]
  },
  {
   "cell_type": "code",
   "execution_count": null,
   "id": "b043f903-7752-4b3f-96e7-a862f15a555e",
   "metadata": {},
   "outputs": [],
   "source": []
  }
 ],
 "metadata": {
  "kernelspec": {
   "display_name": "Python 3.10.0",
   "language": "python",
   "name": "python3.10.0"
  },
  "language_info": {
   "codemirror_mode": {
    "name": "ipython",
    "version": 3
   },
   "file_extension": ".py",
   "mimetype": "text/x-python",
   "name": "python",
   "nbconvert_exporter": "python",
   "pygments_lexer": "ipython3",
   "version": "3.10.0"
  }
 },
 "nbformat": 4,
 "nbformat_minor": 5
}
