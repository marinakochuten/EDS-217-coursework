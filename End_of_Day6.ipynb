{
 "cells": [
  {
   "cell_type": "markdown",
   "id": "06c4d2da-f228-49b5-83ba-26d44460a57e",
   "metadata": {
    "tags": []
   },
   "source": [
    "# [Eurovision Data Analysis Exercise](https://eds-217-essential-python.github.io/course-materials/eod-practice/eod-day6.html)\n",
    "\n",
    "In this exercise, you’ll analyze Eurovision Song Contest data using pandas. You’ll practice various data manipulation techniques and explore trends in the contest’s history."
   ]
  },
  {
   "cell_type": "code",
   "execution_count": null,
   "id": "9de0be67-d1cb-4956-82d3-6f3937f3c5e4",
   "metadata": {
    "tags": []
   },
   "outputs": [],
   "source": [
    "import pandas as pd\n",
    "import numpy as np\n",
    "import matplotlib.pyplot as plt\n",
    "import seaborn as sns\n",
    "\n",
    "# Load the dataset\n",
    "url = \"https://github.com/Spijkervet/eurovision-dataset/releases/download/2020.0/contestants.csv\"\n",
    "eurovision_df = pd.read_csv(url)"
   ]
  },
  {
   "cell_type": "markdown",
   "id": "27f6da88-800a-48ff-bf8a-2daed9810743",
   "metadata": {},
   "source": [
    "## Data exploration and cleaning"
   ]
  },
  {
   "cell_type": "code",
   "execution_count": null,
   "id": "ffd13824-2e78-4cce-97e0-c2b5ddf9e872",
   "metadata": {
    "tags": []
   },
   "outputs": [],
   "source": [
    "# 1. Display the first few rows of the dataset.\n",
    "eurovision_df.head()"
   ]
  },
  {
   "cell_type": "code",
   "execution_count": null,
   "id": "4ccb507d-c86b-405f-be56-37f4e698899c",
   "metadata": {
    "tags": []
   },
   "outputs": [],
   "source": [
    "# 2. Check the data types of each column.\n",
    "eurovision_df.dtypes"
   ]
  },
  {
   "cell_type": "code",
   "execution_count": null,
   "id": "d5eb9e21-977b-4045-8671-f8cebb32d736",
   "metadata": {
    "tags": []
   },
   "outputs": [],
   "source": [
    "# 3. Identify and handle any missing values.\n",
    "eurovision_df.isnull().sum()\n",
    "#eurovision_df.dropna()\n",
    "print(eurovision_df.head())"
   ]
  },
  {
   "cell_type": "code",
   "execution_count": null,
   "id": "a4383b81-913b-469b-ad96-7694c0c526ee",
   "metadata": {
    "tags": []
   },
   "outputs": [],
   "source": [
    "# 4. Convert the ‘year’ column to datetime type.\n",
    "\n",
    "eurovision_df['year'] = pd.to_datetime(eurovision_df['year'], format = '%Y').copy()\n",
    "eurovision_df.head()\n",
    "#eurovision_df.dtypes"
   ]
  },
  {
   "cell_type": "markdown",
   "id": "5ea739af-a6b8-4540-bcba-e72f976a515e",
   "metadata": {},
   "source": [
    "## Task 2: Filtering and Transformation"
   ]
  },
  {
   "cell_type": "code",
   "execution_count": null,
   "id": "4d76bddd-18eb-43b6-83e4-cbf86aff37ef",
   "metadata": {
    "tags": []
   },
   "outputs": [],
   "source": [
    "# 1. Create a new dataframe containing only data from 1990 onwards\n",
    "\n",
    "euro_1990 = eurovision_df[eurovision_df['year'] >= '1990'].copy()\n",
    "euro_1990.head()\n",
    "euro_1990.tail()\n"
   ]
  },
  {
   "cell_type": "code",
   "execution_count": null,
   "id": "de2e2ac8-5e82-45f5-a4dd-d5168639f7b8",
   "metadata": {
    "tags": []
   },
   "outputs": [],
   "source": [
    "euro_1990.columns"
   ]
  },
  {
   "cell_type": "code",
   "execution_count": null,
   "id": "e06eeda2-1d91-4c07-9260-5abb5cb566d5",
   "metadata": {
    "tags": []
   },
   "outputs": [],
   "source": [
    "# 2. Calculate the difference between final points and semi-final points for each entry\n",
    "# make a histogram of these values using the builtin dataframe .hist() command.\n",
    "\n",
    "euro_1990['final_diff'] = euro_1990['points_final'] - euro_1990['points_sf']\n",
    "#print(euro_1990.shape)\n",
    "#print(euro_1990['final_diff'].isnull().sum())\n",
    "\n",
    "euro_1990.hist('final_diff')"
   ]
  },
  {
   "cell_type": "markdown",
   "id": "90283470-4873-4eb7-968f-4dfcf99d2445",
   "metadata": {},
   "source": [
    "## Task 3: Sorting and Aggregation"
   ]
  },
  {
   "cell_type": "code",
   "execution_count": null,
   "id": "7714abac-9bd2-4284-a056-04f1266639e2",
   "metadata": {
    "tags": []
   },
   "outputs": [],
   "source": [
    "# 1. Find the top 10 countries with the most Eurovision appearances (use the entire dataset for this calculation)\n",
    "\n",
    "#top_10 = eurovision_df.groupby('to_country')\n",
    "#top_10 = top_10['to_country'].count().sort_values(ascending=False).head(10)\n",
    "#top_10\n",
    "\n",
    "top_10 = eurovision_df.value_counts('to_country').head(10)\n",
    "top_10\n",
    "\n",
    "\n",
    "#.count().sort_values(ascending = False).head(10)\n",
    "#euro_country_sorted = euro_country_top.sort_values('count', ascending = False).head(10)"
   ]
  },
  {
   "cell_type": "code",
   "execution_count": null,
   "id": "9d0e6fb9-3e85-40a0-8d7a-fd36a83a92b9",
   "metadata": {
    "tags": []
   },
   "outputs": [],
   "source": [
    "# 2. Calculate the average final points for each country across all years. Make a simple bar plot of these data.\n",
    "\n",
    "final_avg = eurovision_df.groupby('to_country')\n",
    "final_avg = final_avg['points_final'].mean()\n",
    "final_avg.plot.bar()"
   ]
  },
  {
   "cell_type": "markdown",
   "id": "4d88a42f-7b03-4079-a388-73606215467b",
   "metadata": {},
   "source": [
    "## Task 4"
   ]
  },
  {
   "cell_type": "code",
   "execution_count": null,
   "id": "c3e7300f-9f60-42b6-bd92-ec7e29dbb081",
   "metadata": {
    "tags": []
   },
   "outputs": [],
   "source": [
    "# 1. Determine the country with the highest average final points for each decade.\n",
    "\n",
    "eurovision_df['decade'] = eurovision_df['year'].dt.year // 10 * 10\n",
    "\n",
    "highest_country = eurovision_df.groupby(['decade', 'to_country'])['points_final'].mean().groupby('decade').idxmax()\n",
    "\n",
    "highest_country"
   ]
  },
  {
   "cell_type": "code",
   "execution_count": null,
   "id": "b610019c-d818-4edf-b7aa-e7277c8bccc1",
   "metadata": {},
   "outputs": [],
   "source": []
  }
 ],
 "metadata": {
  "kernelspec": {
   "display_name": "Python 3.10.0",
   "language": "python",
   "name": "python3.10.0"
  },
  "language_info": {
   "codemirror_mode": {
    "name": "ipython",
    "version": 3
   },
   "file_extension": ".py",
   "mimetype": "text/x-python",
   "name": "python",
   "nbconvert_exporter": "python",
   "pygments_lexer": "ipython3",
   "version": "3.10.0"
  }
 },
 "nbformat": 4,
 "nbformat_minor": 5
}
