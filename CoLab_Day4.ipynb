{
 "cells": [
  {
   "cell_type": "markdown",
   "id": "ddda61eb-3a8a-4328-b3b3-dcf1d4f0cdc6",
   "metadata": {},
   "source": [
    "# Cleaning Data"
   ]
  },
  {
   "cell_type": "markdown",
   "id": "e296e014-37f6-4439-bcc8-2cdb80280836",
   "metadata": {},
   "source": [
    "## setup"
   ]
  },
  {
   "cell_type": "code",
   "execution_count": null,
   "id": "d67d3662-20f3-4f2a-89cb-83effa780804",
   "metadata": {
    "tags": []
   },
   "outputs": [],
   "source": [
    "import pandas as pd\n",
    "import numpy as np\n",
    "\n",
    "url = 'https://bit.ly/messy_csv'\n",
    "messy_df = pd.read_csv(url)\n",
    "\n",
    "print(messy_df)"
   ]
  },
  {
   "cell_type": "code",
   "execution_count": null,
   "id": "84f36307-fdf8-4035-b1c8-01eb0ff0d24e",
   "metadata": {
    "tags": []
   },
   "outputs": [],
   "source": [
    "# remove duplicates\n",
    "clean_df = messy_df.drop_duplicates()\n",
    "print(clean_df)"
   ]
  },
  {
   "cell_type": "code",
   "execution_count": null,
   "id": "338093f7-a072-4af7-bf3a-72024b03e83f",
   "metadata": {
    "tags": []
   },
   "outputs": [],
   "source": [
    "# handle missing values. BE CAREFUL WITH DROPNA. there are better options to fill missing values\n",
    "clean_df = clean_df.dropna()\n",
    "print(clean_df)"
   ]
  },
  {
   "cell_type": "code",
   "execution_count": null,
   "id": "bae09446-cc49-4727-8e1b-73395d6b0dcf",
   "metadata": {
    "tags": []
   },
   "outputs": [],
   "source": [
    "# Ensuring consistent data types (dates, strings)\n",
    "clean_df.dtypes\n",
    "\n",
    "clean_df['collection date'] = pd.to_datetime(clean_df['collection date'])\n",
    "\n",
    "print(clean_df.dtypes)"
   ]
  },
  {
   "cell_type": "code",
   "execution_count": null,
   "id": "74da0a15-34e5-4191-9069-8cd213886906",
   "metadata": {
    "tags": []
   },
   "outputs": [],
   "source": [
    "# Formatting the ‘site’ column for consistency\n",
    "\n",
    "clean_df['site'] = clean_df['site'].str.lower().replace('sitec', 'site_c')\n",
    "print(clean_df)"
   ]
  },
  {
   "cell_type": "code",
   "execution_count": null,
   "id": "7ccddf62-f1c9-4a16-a9c3-03740103b24f",
   "metadata": {
    "tags": []
   },
   "outputs": [],
   "source": [
    "# Making sure all column names are lower case, without whitespace.\n",
    "\n",
    "clean_df.columns = clean_df.columns.str.lower().str.replace(' ', '_')\n",
    "print(clean_df)"
   ]
  }
 ],
 "metadata": {
  "kernelspec": {
   "display_name": "Python 3.10.0",
   "language": "python",
   "name": "python3.10.0"
  },
  "language_info": {
   "codemirror_mode": {
    "name": "ipython",
    "version": 3
   },
   "file_extension": ".py",
   "mimetype": "text/x-python",
   "name": "python",
   "nbconvert_exporter": "python",
   "pygments_lexer": "ipython3",
   "version": "3.10.0"
  }
 },
 "nbformat": 4,
 "nbformat_minor": 5
}
